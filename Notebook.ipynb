{
  "nbformat": 4,
  "nbformat_minor": 0,
  "metadata": {
    "colab": {
      "provenance": [],
      "collapsed_sections": [
        "sQXLDh95XcFG",
        "W2jhgcaFW59n",
        "cGjcnF6FZNK2",
        "Eb2XVL1lfPMM",
        "KY-T1PLTEGg9",
        "nvaXH2nKexJV",
        "laKSIrUefY0s",
        "7pFAyKdbfyLD",
        "z1Mvqj8WElPk",
        "WcjeyUA4IvVp",
        "ezV9qoMNMptD",
        "GglN-rdOm_i1",
        "v6JQDx-qvCfh"
      ],
      "authorship_tag": "ABX9TyOAVvbXTffA1v3+9ky79NYd",
      "include_colab_link": true
    },
    "kernelspec": {
      "name": "python3",
      "display_name": "Python 3"
    },
    "language_info": {
      "name": "python"
    }
  },
  "cells": [
    {
      "cell_type": "markdown",
      "metadata": {
        "id": "view-in-github",
        "colab_type": "text"
      },
      "source": [
        "<a href=\"https://colab.research.google.com/github/jcv00036/amn_p/blob/main/Notebook.ipynb\" target=\"_parent\"><img src=\"https://colab.research.google.com/assets/colab-badge.svg\" alt=\"Open In Colab\"/></a>"
      ]
    },
    {
      "cell_type": "code",
      "source": [
        "#Import all the libraries I can use\n",
        "import math\n",
        "import matplotlib.pyplot as plt\n",
        "import numpy as np"
      ],
      "metadata": {
        "id": "usDu34YJpl9Z"
      },
      "execution_count": 2,
      "outputs": []
    },
    {
      "cell_type": "markdown",
      "source": [
        "##Introduction:"
      ],
      "metadata": {
        "id": "sQXLDh95XcFG"
      }
    },
    {
      "cell_type": "markdown",
      "source": [
        "**[ f(x) = 0  <=>  x is a root of f(x) ]**\n",
        "\n",
        "\n",
        "---\n",
        "Ex:\n",
        "\n",
        ">  x+arctan(2x+1)=3, goes strictly increasing from -∞ to +∞ so it has exactly 1 solution.\n",
        ">\n",
        ">  It is not possible to compute the exact value but we can approximate.\n",
        "---"
      ],
      "metadata": {
        "id": "BM731jlMeuRu"
      }
    },
    {
      "cell_type": "markdown",
      "source": [
        "# Unit 9: Root Finding Algorithms"
      ],
      "metadata": {
        "id": "W2jhgcaFW59n"
      }
    },
    {
      "cell_type": "markdown",
      "source": [
        "## 1. Plotting functions:"
      ],
      "metadata": {
        "id": "cGjcnF6FZNK2"
      }
    },
    {
      "cell_type": "markdown",
      "source": [
        "###How it's coded:"
      ],
      "metadata": {
        "id": "Eb2XVL1lfPMM"
      }
    },
    {
      "cell_type": "markdown",
      "source": [
        "In order to plot functions in python, it is necessary to `import` the packages `matplotlib.pyplot` and `numpy`\n",
        "\n",
        "It is strongly advised to import ``matplotlib.pyplot` and `numpy` like so:\n",
        "\n",
        "\n",
        "```\n",
        "import matplotlib.pyplot as plt\n",
        "import numpy as np\n",
        "```\n",
        "\n",
        "\n",
        "\n",
        "How it works is: we divide the function in several evenly spaced points and evaluate it at those points. Now we only need to join them and we have a graph.\n",
        "\n",
        ">The closer the points are, the closer the graph will be to the actual fuction\n",
        "\n",
        "Ex:\n",
        "\n",
        "---\n",
        "> x+arctan(2x+1)=3 can be plotted like this:\n",
        "\n",
        "\n",
        "```\n",
        "fig, ax = plt.subplots() #this defines a tuple because the function returns the figure(container where you draw things), and the axis\n",
        "ax.plot(x,y)\n",
        "\n",
        "plt.show()\n",
        "```\n",
        "\n",
        "\n",
        "---\n"
      ],
      "metadata": {
        "id": "osdBZmiQeoB2"
      }
    },
    {
      "cell_type": "code",
      "execution_count": 3,
      "metadata": {
        "colab": {
          "base_uri": "https://localhost:8080/",
          "height": 54
        },
        "id": "5fssgcEgVd2A",
        "outputId": "ed7e40b9-2326-46ee-e5a9-98c63bd4fed3"
      },
      "outputs": [
        {
          "output_type": "display_data",
          "data": {
            "text/plain": [
              "<Figure size 640x480 with 1 Axes>"
            ],
            "image/png": "[encoded data removed]"
          },
          "metadata": {}
        }
      ],
      "source": [
        "import math\n",
        "import matplotlib.pyplot as plt\n",
        "import numpy as np\n",
        "\n",
        "#Define the function: f(x) = x+arctan(2x+1)-3\n",
        "def f(x):\n",
        "  return x + np.arctan(2*x+1)-3\n",
        "\n",
        "#Now, everytime we grite f(x) given x some value, we will have a result to the ecuation.\n",
        "\n",
        "a = -3\n",
        "b = 3\n",
        "\n",
        "subdivisions = 1000000\n",
        "\n",
        "x = np.linspace(a,b,subdivisions) #subdivide x into \"subdivisions\" evenly spaced point from a to b\n",
        "#⬆Is the set of the points in x, meaning the domain\n",
        "\n",
        "y = f(x)\n",
        "#⬆Is the set of the points in y, meaning the codomain or image\n",
        "\n",
        "\n",
        "#now we define another function that returns 0\n",
        "y2 = [0 for n in range(subdivisions)]\n",
        "\n",
        "\n",
        "\n",
        "#********************************\n",
        "fig, ax = plt.subplots() #this defines a tuple because the function returns the figure(container where you draw things), and the axis\n",
        "ax.plot(x,y)\n",
        "ax.plot(x,y2) #second function\n",
        "ax.plot([-3,3],[0,0]) #this outputs the same graph than the function with image y2, but how it works is: given two points, it draws them and joins them\n",
        "ax.scatter([-3,3],[0,0]) #this outputs the same but without joining the points\n",
        "ax.scatter([-3],[1]) #this is a way of printing a point\n",
        "\n",
        "plt.show()\n",
        "#******************************** This code plots the function"
      ]
    },
    {
      "cell_type": "markdown",
      "source": [],
      "metadata": {
        "id": "w0-PehcAEFCM"
      }
    },
    {
      "cell_type": "markdown",
      "source": [
        "## 2. Find a solution to an equation:"
      ],
      "metadata": {
        "id": "KY-T1PLTEGg9"
      }
    },
    {
      "cell_type": "markdown",
      "source": [
        "###Bisection method:"
      ],
      "metadata": {
        "id": "nvaXH2nKexJV"
      }
    },
    {
      "cell_type": "markdown",
      "source": [
        "With two points, one positive and another negative (a and b):\n",
        "1. My approximation will be in (a+b)/2, meaning in the middle point between a and b\n",
        "\n",
        "How it's programmed:\n",
        "\n",
        "\n",
        ">Naïve method:\n",
        "\n",
        "```\n",
        "#I define my function\n",
        "#My points will be a and b, e.g. 1 and 2\n",
        "#I check if the sign changes in that interval\n",
        "  #If it does: reduce the interval from the right\n",
        "  #If it doesn't: reduce the interval from the left\n",
        "\n",
        "#Naive way\n",
        "def f(x):\n",
        "  return x + np.arctan(2*x+1)-3\n",
        "\n",
        "error = 0.0001\n",
        "a = 1\n",
        "b = 2\n",
        "\n",
        "while((b-a) > error):\n",
        "  c=(a+b)/2\n",
        "  if(f(c)*f(a)<0): #minus times minus returns minus, so if the result of the product is negative, it means that the solution is between c and a\n",
        "    b=c\n",
        "  else:\n",
        "    a=c\n",
        "\n",
        "print((a+b)/2) #The solution is between a and b, so I print the middlepoint\n",
        "```\n",
        "\n",
        ">More clever method:\n",
        "\n",
        "```\n",
        "# I do the same as before but I use a function:\n",
        "\n",
        "#More clever way, approached as a function\n",
        "def f(x):\n",
        "  return x + np.arctan(2*x+1)-3\n",
        "\n",
        "def bisection(f,a,b,error):\n",
        "  while((b-a) > error):\n",
        "    c=(a+b)/2\n",
        "    if(f(c)*f(a)<0): #minus times minus returns minus, so if the result of the product is negative, it means that the solution is between c and a\n",
        "      b=c\n",
        "    else:\n",
        "      a=c\n",
        "  return (a+b)/2\n",
        "\n",
        "print(bisection(f,1,2,0.0001))\n",
        "\n",
        "```\n",
        "\n",
        ">Better approach, the recursive one:\n",
        "\n",
        "```\n",
        "# I do the same as before but I use a recursive function:\n",
        "\n",
        "#Better way, using recursive functions:\n",
        "def f(x):\n",
        "  return x + np.arctan(2*x+1)-3\n",
        "\n",
        "def bisection(f,a,b,error):\n",
        "  if(b-a<2*error):\n",
        "    return (a+b)/2\n",
        "  if(f((a+b)/2)*f(a)<0): #minus times minus returns minus, so if the result of the product is negative, it means that the solution is between c and a\n",
        "    return bisection(f,a,(a+b)/2,error)\n",
        "  else:\n",
        "    return bisection(f,(a+b)/2,b,error)\n",
        "  return (a+b)/2\n",
        "\n",
        "print(bisection(f,1,2,0.0001))\n",
        "\n",
        "```"
      ],
      "metadata": {
        "id": "NVWmaucLe3OE"
      }
    },
    {
      "cell_type": "code",
      "source": [
        "#Naive way\n",
        "def f(x):\n",
        "  return x + np.arctan(2*x+1)-3\n",
        "\n",
        "error = 0.0001\n",
        "a = 1\n",
        "b = 2\n",
        "\n",
        "while((b-a) > error):\n",
        "  c=(a+b)/2\n",
        "  if(f(c)*f(a)<0): #minus times minus returns minus, so if the result of the product is negative, it means that the solution is between c and a\n",
        "    b=c\n",
        "  else:\n",
        "    a=c\n",
        "\n",
        "print((a+b)/2) #The solution is between a and b, so I print the middlepoint\n"
      ],
      "metadata": {
        "colab": {
          "base_uri": "https://localhost:8080/"
        },
        "id": "3tl-cu9giIMS",
        "outputId": "e89fe1ee-1fb5-48e4-df83-82eb29df806f"
      },
      "execution_count": 4,
      "outputs": [
        {
          "output_type": "stream",
          "name": "stdout",
          "text": [
            "1.657012939453125\n"
          ]
        }
      ]
    },
    {
      "cell_type": "code",
      "source": [
        "#More clever way, approached as a function\n",
        "def f(x):\n",
        "  return x + np.arctan(2*x+1)-3\n",
        "\n",
        "def bisection(f,a,b,error):\n",
        "  while((b-a) > error):\n",
        "    c=(a+b)/2\n",
        "    if(f(c)*f(a)<0): #minus times minus returns minus, so if the result of the product is negative, it means that the solution is between c and a\n",
        "      b=c\n",
        "    else:\n",
        "      a=c\n",
        "  return (a+b)/2\n",
        "\n",
        "print(bisection(f,1,2,0.0001))"
      ],
      "metadata": {
        "id": "fVJzoE9AkR9b",
        "colab": {
          "base_uri": "https://localhost:8080/"
        },
        "outputId": "4319d950-9b19-41ec-bd46-7e10d0146db2"
      },
      "execution_count": 5,
      "outputs": [
        {
          "output_type": "stream",
          "name": "stdout",
          "text": [
            "1.657012939453125\n"
          ]
        }
      ]
    },
    {
      "cell_type": "code",
      "source": [
        "#Better way, using recursive functions:\n",
        "def f(x):\n",
        "  return x + np.arctan(2*x+1)-3\n",
        "\n",
        "def bisection(f,a,b,error):\n",
        "  \"\"\"\n",
        "  Parameters\n",
        "  ----------\n",
        "    f: function\n",
        "        the function that represents our equation\n",
        "    a: float\n",
        "        left limit of the interval\n",
        "    b: float\n",
        "        rigth limit of the interval\n",
        "    error: float\n",
        "        maximum tolerable error\n",
        "\n",
        "  Returns\n",
        "  -------\n",
        "    solution: float\n",
        "        approximate solution to the equation\n",
        "  \"\"\"\n",
        "  if(b-a<2*error):\n",
        "    return (a+b)/2\n",
        "  if(f((a+b)/2)*f(a)<0): #minus times minus returns minus, so if the result of the product is negative, it means that the solution is between c and a\n",
        "    return bisection(f,a,(a+b)/2,error)\n",
        "  else:\n",
        "    return bisection(f,(a+b)/2,b,error)\n",
        "  return (a+b)/2\n",
        "\n",
        "print(bisection(f,1,2,0.0001))"
      ],
      "metadata": {
        "id": "lBNUkgvBlzHr",
        "colab": {
          "base_uri": "https://localhost:8080/"
        },
        "outputId": "aa9c59fc-239b-49ae-c2d5-2a7512f1631c"
      },
      "execution_count": 6,
      "outputs": [
        {
          "output_type": "stream",
          "name": "stdout",
          "text": [
            "1.65704345703125\n"
          ]
        }
      ]
    },
    {
      "cell_type": "markdown",
      "source": [
        "###Regula falsi:"
      ],
      "metadata": {
        "id": "laKSIrUefY0s"
      }
    },
    {
      "cell_type": "markdown",
      "source": [
        "With two points, one positive and another negative (a and b):\n",
        "1. I join the two points and form a line.\n",
        "2. My approximation will be wherever this line is 0\n",
        "\n",
        ">It is coded like so:\n",
        "\n",
        "```\n",
        "#the same as the bisection method but the approximation point c is calculated\n",
        "#like so:\n",
        "#the points are: (a,f(a)) and (b,f(b)), so the equation of the line is:\n",
        "#y=f(a)+((f(b)-f(a))/(b-a))(x-a)\n",
        "#c = some x such that y=0\n",
        "\n",
        "def f(x):\n",
        "  return x + np.arctan(2*x+1)-3\n",
        "\n",
        "def regulaFalsi(f,a,b,tolerance):\n",
        "  c = ((a*f(b)-b*f(a))/(f(b)-f(a)))\n",
        "  if(b-c<tolerance or c-a < tolerance):\n",
        "    return (a+b)/2\n",
        "  if(f(c)*f(a)<0):\n",
        "    return regulaFalsi(f,a,c,tolerance)\n",
        "  else:\n",
        "    return regulaFalsi(f,c,b,tolerance)\n",
        "\n",
        "print(regulaFalsi(f,1,2,0.0001))\n",
        "```\n",
        "\n",
        "⬆I just changed the point c which before was (a+b)/2 (the mean point)\n",
        "\n",
        "Here we're not calculating with an error but a tolerance, meaning it is not the difference between the real point and the approximation, it is just an approximation wich might be close."
      ],
      "metadata": {
        "id": "ukwEmi4Bfcbg"
      }
    },
    {
      "cell_type": "code",
      "source": [
        "def f(x):\n",
        "  return x + np.arctan(2*x+1)-3\n",
        "\n",
        "def regulaFalsi(f,a,b,tolerance):\n",
        "  \"\"\"\n",
        "  Parameters\n",
        "  ----------\n",
        "    f: function\n",
        "        the function that represents our equation\n",
        "    a: float\n",
        "        left limit of the interval\n",
        "    b: float\n",
        "        rigth limit of the interval\n",
        "    tolerance: float\n",
        "        minimum difference between consecutive approximations\n",
        "\n",
        "  Returns\n",
        "  -------\n",
        "    solution: float\n",
        "        approximate solution to the equation\n",
        "  \"\"\"\n",
        "  c = (a*f(b)-b*f(a))/(f(b)-f(a))\n",
        "  if b-c<tolerance or c-a<tolerance:\n",
        "    return c\n",
        "  if f(a)*f(c)>0:\n",
        "    return regulaFalsi(f,c,b,tolerance)\n",
        "  else:\n",
        "    return regulaFalsi(f,a,c,tolerance)\n",
        "\n",
        "print(regulaFalsi(f,1,2,0.00001))"
      ],
      "metadata": {
        "colab": {
          "base_uri": "https://localhost:8080/"
        },
        "id": "kFGBlASOob3p",
        "outputId": "59fabe7d-9005-4fe0-fc99-0767359d1d3b"
      },
      "execution_count": 7,
      "outputs": [
        {
          "output_type": "stream",
          "name": "stdout",
          "text": [
            "1.6569856870444324\n"
          ]
        }
      ]
    },
    {
      "cell_type": "markdown",
      "source": [
        "###Newton-Raphson's graph"
      ],
      "metadata": {
        "id": "7pFAyKdbfyLD"
      }
    },
    {
      "cell_type": "markdown",
      "source": [
        "With two points, one positive and another negative (a and b):\n",
        "1. I draw the tangent line at a\n",
        "2. My approximation will be wherever this tangent line has a value of 0\n",
        "\n",
        ">How it's coded:\n",
        "\n",
        "\n",
        "```\n",
        "#The equation for the tangent line can be expressed like so:\n",
        "#x=a-((f(a))/(f'(a)))\n",
        "\n",
        "def f(x):\n",
        "  return x + np.arctan(2*x+1)-3\n",
        "\n",
        "def derivative(f,x):\n",
        "  h = 0.001\n",
        "  return (f(x+h)-f(x))/h\n",
        "\n",
        "x = 1\n",
        "tolerance =0.0001\n",
        "\n",
        "while True:\n",
        "  xnew = x - f(x)/derivative(f,x) #here I calculate the new point with the formula above\n",
        "  if(x - xnew < tolerance):\n",
        "    x = xnew\n",
        "    break\n",
        "  x = xnew\n",
        "\n",
        "print(x)\n",
        "\n",
        "```\n",
        "\n"
      ],
      "metadata": {
        "id": "KCTGF42Uf1TD"
      }
    },
    {
      "cell_type": "code",
      "source": [
        "def f(x):\n",
        "  return x + np.arctan(2*x+1)-3\n",
        "\n",
        "def derivative(f,x):\n",
        "  h = 0.001\n",
        "  return (f(x+h)-f(x))/h\n",
        "\n",
        "x = 1\n",
        "tolerance =0.0001\n",
        "\n",
        "def newtonRalphson(f,x,tolerance):\n",
        "  \"\"\"\n",
        "  Parameters\n",
        "  ----------\n",
        "    f: function\n",
        "        the function that represents our equation\n",
        "    x: float\n",
        "        initial guess\n",
        "    tolerance: float\n",
        "        minimum difference between consecutive approximations\n",
        "\n",
        "  Returns\n",
        "  -------\n",
        "    x: float\n",
        "        approximate solution to the equation\n",
        "  \"\"\"\n",
        "  while True:\n",
        "    xnew = x - f(x)/derivative(f,x)\n",
        "    if(math.fabs(x - xnew) < tolerance):\n",
        "      x = xnew\n",
        "      break\n",
        "    x = xnew\n",
        "  return x\n",
        "\n",
        "print(newtonRalphson(f,x,tolerance))"
      ],
      "metadata": {
        "colab": {
          "base_uri": "https://localhost:8080/"
        },
        "id": "Bk-oTjMRrRMp",
        "outputId": "9d3b2c7a-ef54-4721-e571-b86863b396cc"
      },
      "execution_count": 8,
      "outputs": [
        {
          "output_type": "stream",
          "name": "stdout",
          "text": [
            "1.6569856705111714\n"
          ]
        }
      ]
    },
    {
      "cell_type": "markdown",
      "source": [
        "###Iterative method"
      ],
      "metadata": {
        "id": "z1Mvqj8WElPk"
      }
    },
    {
      "cell_type": "markdown",
      "source": [
        "**This works whenever |g'(x0)| < 1 and we start close enough to x0**\n",
        "\n",
        ">How it works:\n",
        "We define a line y=x and we want to find the point where g(x) (my equation isolating y*) is equal to x.\n",
        "From a point x0, we compare both functions in an espiral way until g(x) = x, which will be the solution.\n",
        "\n",
        ">\\* For example, if my equatoin  is x+arctan(2x+1)=3, then my g(x)= 3-arctan(2x+1)\n",
        "\n",
        ">How it's coded:\n",
        "\n",
        "\n",
        "```\n",
        "def f(x):\n",
        "  return x + np.arctan(2*x+1)-3 #my function\n",
        "\n",
        "def g(x):\n",
        "  return 3-np.arctan(2*x+1) #the function I create\n",
        "\n",
        "while(True):\n",
        "  xnew = g(x)\n",
        "  if(abs(x-xnew)<0.0001): #If the difference between the point I estimate and the point I want is less than the error, I've made the aproximation I wanted\n",
        "    print(xnew)\n",
        "    break\n",
        "  else:\n",
        "    x = xnew; #Else, iterate again and find a point closer\n",
        "\n",
        "while(abs(x-xnew)>0.0001): #better way\n",
        "  x = xnew\n",
        "  xnew = g(x)\n",
        "  \n",
        "print(xnew)\n",
        "```\n",
        "\n",
        ">In coclusion, this method does and spiral around the point until it reaches x or a point in it's vecinity that's good enough\n",
        "\n"
      ],
      "metadata": {
        "id": "1Cu-_djNEgHU"
      }
    },
    {
      "cell_type": "code",
      "source": [
        "def f(x):\n",
        "  return x + np.arctan(2*x+1)-3 #my function\n",
        "\n",
        "def g(x):\n",
        "  return 3-np.arctan(2*x+1)\n",
        "\n",
        "while(True):\n",
        "  xnew = g(x)\n",
        "  if(abs(x-xnew)<0.0001):\n",
        "    print(xnew)\n",
        "    break\n",
        "  else:\n",
        "    x = xnew;\n",
        "\n",
        "while(abs(x-xnew)>0.0001): #better way\n",
        "  x = xnew\n",
        "  xnew = g(x)\n",
        "\n",
        "print(xnew)"
      ],
      "metadata": {
        "colab": {
          "base_uri": "https://localhost:8080/"
        },
        "id": "VVquBieMGJbH",
        "outputId": "e9b1cf2e-73ee-445d-caef-6e699ae9f8e8"
      },
      "execution_count": 9,
      "outputs": [
        {
          "output_type": "stream",
          "name": "stdout",
          "text": [
            "1.6569846696760524\n",
            "1.6569846696760524\n"
          ]
        }
      ]
    },
    {
      "cell_type": "markdown",
      "source": [
        "###Trisection method"
      ],
      "metadata": {
        "id": "WcjeyUA4IvVp"
      }
    },
    {
      "cell_type": "markdown",
      "source": [
        "* How it works:\n",
        "1. There's a function with a maximum and we want to see where it is. To do so, we don't want to derivate as that would mean doing things by hand and adding errors we cannot handle.\n",
        "2. So we restrict the function to a domain where there's only one maximum: [a,b]. Now, f(x) is unimodal on [a,b] when it has only one max/min and increases /decreases before/after it.\n",
        "3. Now we divide the interval in three different subintervals: [a,c1],[c1,c2] and [c2,b].\n",
        ">c1=(2a+b)/3    &    c2=(a+2b)/3\n",
        "4. We compare c1 and c2. Whichever is greater, describes us the curve, meaning we can discard one subinterval from the study.\n",
        "> For example, if there's a function where c1>c2, the maximum won't be in the interval [c2,b].\n",
        "\n",
        "\n",
        "*   How it's coded:\n",
        "\n",
        "\n",
        "```\n",
        "def trisection(f,a,b,error):\n",
        "  if(b-a)<2*error:\n",
        "    return(a+b)/2 #Return the midpoint\n",
        "\n",
        "  c1=(2*a+b)/3\n",
        "  c2=(a+2*b)/3\n",
        "\n",
        "  if f(c1) > f(c2):\n",
        "    return trisection(f,a,c2,error)\n",
        "  else:\n",
        "    return trisection(f,c1,b,error)\n",
        "```\n",
        "\n",
        "\n",
        "\n",
        "\n"
      ],
      "metadata": {
        "id": "pWvMFbnmIvVt"
      }
    },
    {
      "cell_type": "code",
      "source": [
        "def f(x):\n",
        "  return np.sin(x) # my function\n",
        "\n",
        "def trisection(f,a,b,error):\n",
        "  if(b-a)<2*error:\n",
        "    return(a+b)/2 #Return the midpoint\n",
        "\n",
        "  c1=(2*a+b)/3\n",
        "  c2=(a+2*b)/3\n",
        "\n",
        "  if f(c1) > f(c2):\n",
        "    return trisection(f,a,c2,error)\n",
        "  else:\n",
        "    return trisection(f,c1,b,error)\n",
        "\n",
        "print(\"An approximate value of pi is: \", 2*trisection(f,0,2,0.00000000000001))\n"
      ],
      "metadata": {
        "colab": {
          "base_uri": "https://localhost:8080/"
        },
        "outputId": "7355556d-a126-4818-9014-dc6e5f7998e1",
        "id": "1TMUzKk6IvVw"
      },
      "execution_count": 10,
      "outputs": [
        {
          "output_type": "stream",
          "name": "stdout",
          "text": [
            "An approximate value of pi is:  3.14159267466321\n"
          ]
        }
      ]
    },
    {
      "cell_type": "code",
      "source": [
        "def trisection(f,a,b,error,n):\n",
        "  if(b-a)<2*error:\n",
        "    return(a+b)/2 , n #Return the midpoint and n\n",
        "\n",
        "  c1=(2*a+b)/3\n",
        "  c2=(a+2*b)/3\n",
        "\n",
        "  if f(c1) > f(c2):\n",
        "    return trisection(f,a,c2,error,n+1)\n",
        "  else:\n",
        "    return trisection(f,c1,b,error,n+1)\n",
        "\n",
        "result, n = trisection(f,0,2,0.00000001,1)\n",
        "print(\"An approximate value of pi is: \", 2*result , \" and we needed \", n , \" iterations.\")\n"
      ],
      "metadata": {
        "colab": {
          "base_uri": "https://localhost:8080/"
        },
        "id": "fnoMqR2GM4K0",
        "outputId": "cf19ddc6-46d0-401c-c2db-07fb807d0e43"
      },
      "execution_count": 11,
      "outputs": [
        {
          "output_type": "stream",
          "name": "stdout",
          "text": [
            "An approximate value of pi is:  3.1415926644782743  and we needed  47  iterations.\n"
          ]
        }
      ]
    },
    {
      "cell_type": "markdown",
      "source": [
        "###Gradient descent method"
      ],
      "metadata": {
        "id": "ezV9qoMNMptD"
      }
    },
    {
      "cell_type": "markdown",
      "source": [
        "* How it works:\n",
        "1.   When you're looking for a maximum or  a minimum in a point x, if can approximate from the left or the right\n",
        "2.   In each side of the point, the sign of the derivate will be different and if you come close enough to x, very very small (meaning a almost horizontal tangent).\n",
        "3.   If the value of the derivative is very big, I should do a leap in the function bigger than if it were very small, as we can expect to be further from the point x.\n",
        "4. xn`1 = xn-λf'(xn) | Lamda being a parameter\n",
        "\n",
        "\n",
        "* How it's coded:\n",
        "\n",
        "This code works for a 1 variable function\n",
        "```\n",
        "a = 0.05 #for example, as a=λ\n",
        "while True:\n",
        "  xnew = x-a*derivative(f,x)\n",
        "  print(xnew) #prints the sequence of approximations\n",
        "  if(abs(x-xnew) < tolerance):\n",
        "    x=xnew\n",
        "    break\n",
        "  x=xnew\n",
        "```\n",
        "\n",
        "This code works for a 2 variable function\n",
        "```\n",
        "# two parameter functions:\n",
        "def f(x,y):\n",
        "  return x**2+y**2 #our solution is (0,0) as we know it's the minimum\n",
        "\n",
        "def gradient(f,x,y):\n",
        "  h=0.001\n",
        "  px=(f(x+h,y)-f(x,y))/h\n",
        "  py=(f(x,y+h)-f(x,y))/h\n",
        "  return [px,py]\n",
        "\n",
        "x = 1\n",
        "y = 1\n",
        "a = 0.3\n",
        "tolerance = 0.0000000000001 #tolerable error\n",
        "\n",
        "while True:\n",
        "  xnew = x-a*gradient(f,x,y)[0]\n",
        "  ynew = y-a*gradient(f,x,y)[1]\n",
        "  print(xnew,ynew)#prints the approximations\n",
        "  #the conditoin of this ⬇ if, is the euclidean? distance, the square of x and y in a sqrt\n",
        "  if((((x-xnew)**2+(y-ynew)**2)**(1/2))<tolerance): #if I reach the tolerance, I update and break\n",
        "    x=xnew\n",
        "    y=ynew\n",
        "    break\n",
        "  x=xnew #else, I update my numbers and come back again\n",
        "  y=ynew\n",
        "```\n",
        "\n",
        "\n",
        "\n",
        "\n",
        "\n",
        "\n"
      ],
      "metadata": {
        "id": "7_iDd_ppMq_T"
      }
    },
    {
      "cell_type": "code",
      "source": [
        "#one parameter functions:\n",
        "def f(x):\n",
        "  return x**2*(x-1)\n",
        "\n",
        "def derivative(f,x):\n",
        "  h=0.001\n",
        "  return (f(x+h)-f(x))/h\n",
        "\n",
        "x = 1\n",
        "a = 0.05\n",
        "tolerance = 0.0000000000000000000001\n",
        "\n",
        "while True:\n",
        "  xnew = x-a*derivative(f,x)\n",
        "  print(xnew) #prints the sequence of approximations\n",
        "  if(abs(x-xnew) < tolerance):\n",
        "    x=xnew\n",
        "    break\n",
        "  x=xnew"
      ],
      "metadata": {
        "colab": {
          "base_uri": "https://localhost:8080/"
        },
        "id": "xamxHhiiLrnG",
        "outputId": "793f95f5-6d6c-42b9-f298-f3b3bd1a5167"
      },
      "execution_count": 12,
      "outputs": [
        {
          "output_type": "stream",
          "name": "stdout",
          "text": [
            "0.9498999500000055\n",
            "0.9094509227560039\n",
            "0.876244400257929\n",
            "0.8486167162761764\n",
            "0.8253784957248488\n",
            "0.8056550393422227\n",
            "0.7887876386579166\n",
            "0.7742701435429786\n",
            "0.7617068290984345\n",
            "0.7507836119596343\n",
            "0.74124790081573\n",
            "0.7328941861426234\n",
            "0.7255535374167155\n",
            "0.719085817779088\n",
            "0.7133738246846772\n",
            "0.7083188190176566\n",
            "0.7038370706903836\n",
            "0.6998571588871147\n",
            "0.6963178397751616\n",
            "0.6931663459783403\n",
            "0.6903570181447334\n",
            "0.687850194531233\n",
            "0.6856113029376782\n",
            "0.6836101127286199\n",
            "0.6818201145508469\n",
            "0.6802180026978293\n",
            "0.6787832405880733\n",
            "0.6774976940053045\n",
            "0.6763453199443583\n",
            "0.6753119013692057\n",
            "0.6743848201012878\n",
            "0.6735528615509434\n",
            "0.6728060461812855\n",
            "0.6721354835257731\n",
            "0.6715332453236572\n",
            "0.6709922549329861\n",
            "0.6705061906610377\n",
            "0.6700694010413255\n",
            "0.66967683040352\n",
            "0.669323953342415\n",
            "0.6690067169059671\n",
            "0.6687214894992335\n",
            "0.6684650156480212\n",
            "0.6682343758886802\n",
            "0.6680269511532633\n",
            "0.6678403911058473\n",
            "0.6676725859589041\n",
            "0.6675216413607432\n",
            "0.6673858559978729\n",
            "0.6672637016013583\n",
            "0.6671538050850421\n",
            "0.6670549325768655\n",
            "0.6669659751333972\n",
            "0.6668859359526209\n",
            "0.6668139189217793\n",
            "0.6667491183559453\n",
            "0.6666908097995219\n",
            "0.6666383417773325\n",
            "0.6665911283946555\n",
            "0.6665486426966916\n",
            "0.6665104107078377\n",
            "0.6664760060797259\n",
            "0.6664450452847898\n",
            "0.6664171832987784\n",
            "0.6663921097217804\n",
            "0.6663695452925817\n",
            "0.6663492387560295\n",
            "0.6663309640472083\n",
            "0.6663145177601109\n",
            "0.6662997168717737\n",
            "0.66628639669591\n",
            "0.6662744090426942\n",
            "0.6662636205638297\n",
            "0.6662539112641057\n",
            "0.6662451731626189\n",
            "0.6662373090885338\n",
            "0.6662302315977946\n",
            "0.6662238619986063\n",
            "0.666218129474716\n",
            "0.6662129702966479\n",
            "0.6662083271120458\n",
            "0.6662041483071687\n",
            "0.6662003874323876\n",
            "0.6661970026852523\n",
            "0.6661939564453531\n",
            "0.6661912148557755\n",
            "0.6661887474464723\n",
            "0.666186526795358\n",
            "0.6661845282233251\n",
            "0.6661827295198028\n",
            "0.6661811106957863\n",
            "0.6661796537615797\n",
            "0.6661783425267882\n",
            "0.666177162420327\n",
            "0.6661761003284375\n",
            "0.666175144448912\n",
            "0.6661742841599053\n",
            "0.6661735099018768\n",
            "0.6661728130713308\n",
            "0.6661721859251986\n",
            "0.6661716214947753\n",
            "0.6661711135082822\n",
            "0.6661706563211551\n",
            "0.6661702448533189\n",
            "0.6661698745327336\n",
            "0.6661695412445823\n",
            "0.6661692412855511\n",
            "0.6661689713226685\n",
            "0.6661687283562715\n",
            "0.6661685096866738\n",
            "0.6661683128841634\n",
            "0.6661681357620076\n",
            "0.6661679763521486\n",
            "0.6661678328833438\n",
            "0.6661677037614723\n",
            "0.6661675875518304\n",
            "0.6661674829631856\n",
            "0.666167388833433\n",
            "0.6661673041166785\n",
            "0.6661672278716169\n",
            "0.6661671592510743\n",
            "0.6661670974925968\n",
            "0.6661670419099763\n",
            "0.6661669918856237\n",
            "0.6661669468637125\n",
            "0.6661669063439957\n",
            "0.6661668698762544\n",
            "0.666166837055289\n",
            "0.6661668075164218\n",
            "0.6661667809314431\n",
            "0.6661667570049629\n",
            "0.6661667354711311\n",
            "0.6661667160906839\n",
            "0.6661666986482822\n",
            "0.6661666829501214\n",
            "0.6661666688217757\n",
            "0.6661666561062651\n",
            "0.6661666446623055\n",
            "0.6661666343627415\n",
            "0.6661666250931342\n",
            "0.6661666167504867\n",
            "0.6661666092421052\n",
            "0.6661666024845607\n",
            "0.6661665964027714\n",
            "0.666166590929161\n",
            "0.6661665860029113\n",
            "0.6661665815692857\n",
            "0.6661665775790233\n",
            "0.6661665739877862\n",
            "0.666166570755673\n",
            "0.6661665678467708\n",
            "0.6661665652287594\n",
            "0.6661665628725497\n",
            "0.6661665607519599\n",
            "0.6661665588434282\n",
            "0.6661665571257509\n",
            "0.6661665555798403\n",
            "0.6661665541885199\n",
            "0.6661665529363326\n",
            "0.6661665518093647\n",
            "0.6661665507950927\n",
            "0.6661665498822479\n",
            "0.666166549060687\n",
            "0.666166548321284\n",
            "0.6661665476558191\n",
            "0.6661665470569009\n",
            "0.6661665465178752\n",
            "0.6661665460327522\n",
            "0.6661665455961416\n",
            "0.6661665452031921\n",
            "0.6661665448495375\n",
            "0.666166544531249\n",
            "0.6661665442447893\n",
            "0.6661665439869746\n",
            "0.6661665437549422\n",
            "0.6661665435461135\n",
            "0.6661665433581666\n",
            "0.6661665431890145\n",
            "0.6661665430367779\n",
            "0.6661665428997638\n",
            "0.6661665427764514\n",
            "0.6661665426654707\n",
            "0.666166542565588\n",
            "0.6661665424756933\n",
            "0.6661665423947871\n",
            "0.6661665423219718\n",
            "0.6661665422564396\n",
            "0.6661665421974603\n",
            "0.6661665421443792\n",
            "0.6661665420966063\n",
            "0.6661665420536101\n",
            "0.6661665420149133\n",
            "0.6661665419800856\n",
            "0.6661665419487413\n",
            "0.6661665419205318\n",
            "0.6661665418951438\n",
            "0.6661665418722926\n",
            "0.6661665418517271\n",
            "0.6661665418332197\n",
            "0.6661665418165621\n",
            "0.6661665418015699\n",
            "0.6661665417880779\n",
            "0.6661665417759335\n",
            "0.6661665417650033\n",
            "0.6661665417551681\n",
            "0.6661665417463154\n",
            "0.6661665417383468\n",
            "0.6661665417311775\n",
            "0.6661665417247243\n",
            "0.6661665417189164\n",
            "0.6661665417136886\n",
            "0.666166541708984\n",
            "0.66616654170475\n",
            "0.6661665417009391\n",
            "0.66616654169751\n",
            "0.6661665416944236\n",
            "0.6661665416916452\n",
            "0.6661665416891458\n",
            "0.6661665416868948\n",
            "0.6661665416848701\n",
            "0.6661665416830466\n",
            "0.6661665416814062\n",
            "0.6661665416799296\n",
            "0.6661665416786001\n",
            "0.6661665416774039\n",
            "0.6661665416763269\n",
            "0.6661665416753583\n",
            "0.6661665416744867\n",
            "0.6661665416737026\n",
            "0.6661665416729963\n",
            "0.6661665416723607\n",
            "0.6661665416717889\n",
            "0.6661665416712741\n",
            "0.6661665416708106\n",
            "0.6661665416703942\n",
            "0.6661665416700195\n",
            "0.6661665416696823\n",
            "0.6661665416693783\n",
            "0.6661665416691049\n",
            "0.6661665416688594\n",
            "0.6661665416686373\n",
            "0.6661665416684375\n",
            "0.6661665416682571\n",
            "0.6661665416680946\n",
            "0.6661665416679503\n",
            "0.6661665416678199\n",
            "0.6661665416677018\n",
            "0.666166541667595\n",
            "0.6661665416675007\n",
            "0.6661665416674146\n",
            "0.6661665416673369\n",
            "0.6661665416672675\n",
            "0.6661665416672051\n",
            "0.6661665416671483\n",
            "0.666166541667097\n",
            "0.6661665416670526\n",
            "0.6661665416670124\n",
            "0.6661665416669749\n",
            "0.6661665416669416\n",
            "0.6661665416669125\n",
            "0.666166541666886\n",
            "0.6661665416668625\n",
            "0.6661665416668416\n",
            "0.6661665416668208\n",
            "0.6661665416668028\n",
            "0.6661665416667875\n",
            "0.6661665416667736\n",
            "0.6661665416667597\n",
            "0.6661665416667486\n",
            "0.6661665416667388\n",
            "0.6661665416667291\n",
            "0.6661665416667193\n",
            "0.666166541666711\n",
            "0.6661665416667054\n",
            "0.6661665416666999\n",
            "0.6661665416666943\n",
            "0.6661665416666902\n",
            "0.666166541666686\n",
            "0.6661665416666818\n",
            "0.6661665416666775\n",
            "0.6661665416666748\n",
            "0.6661665416666707\n",
            "0.6661665416666679\n",
            "0.6661665416666651\n",
            "0.6661665416666638\n",
            "0.6661665416666624\n",
            "0.6661665416666611\n",
            "0.6661665416666598\n",
            "0.6661665416666585\n",
            "0.6661665416666571\n",
            "0.6661665416666558\n",
            "0.6661665416666545\n",
            "0.6661665416666531\n",
            "0.6661665416666518\n",
            "0.6661665416666505\n",
            "0.6661665416666505\n"
          ]
        }
      ]
    },
    {
      "cell_type": "code",
      "source": [
        "#two parameter functions:\n",
        "def f(x,y):\n",
        "  return x**2+y**2 #our solution is (0,0) as we know it's the minimum\n",
        "\n",
        "def gradient(f,x,y):\n",
        "  h=0.001\n",
        "  px=(f(x+h,y)-f(x,y))/h\n",
        "  py=(f(x,y+h)-f(x,y))/h\n",
        "  return [px,py]\n",
        "\n",
        "x = 1\n",
        "y = 1\n",
        "a = 0.3\n",
        "tolerance = 0.0000000000001 #tolerable error\n",
        "\n",
        "while True:\n",
        "  xnew = x-a*gradient(f,x,y)[0]\n",
        "  ynew = y-a*gradient(f,x,y)[1]\n",
        "  print(xnew,ynew)#prints the approximations\n",
        "  #the conditoin of this ⬇ if, is the euclidean? distance, the square of x and y in a sqrt\n",
        "  if((((x-xnew)**2+(y-ynew)**2)**(1/2))<tolerance): #if I reach the tolerance, I update and break\n",
        "    x=xnew\n",
        "    y=ynew\n",
        "    break\n",
        "  x=xnew #else, I update my numbers and come back again\n",
        "  y=ynew"
      ],
      "metadata": {
        "colab": {
          "base_uri": "https://localhost:8080/"
        },
        "id": "Ueyl0YbzOPTR",
        "outputId": "cbb3e2ca-62e7-4992-ae9c-9af8e9053a6c"
      },
      "execution_count": 13,
      "outputs": [
        {
          "output_type": "stream",
          "name": "stdout",
          "text": [
            "0.39970000000002415 0.39970000000002415\n",
            "0.15958000000001382 0.15958000000001382\n",
            "0.06353200000000553 0.06353200000000553\n",
            "0.02511280000000221 0.02511280000000221\n",
            "0.009745120000000912 0.009745120000000912\n",
            "0.0035980480000003577 0.0035980480000003577\n",
            "0.0011392192000001422 0.0011392192000001422\n",
            "0.00015568768000005697 0.00015568768000005697\n",
            "-0.00023772492799997719 -0.00023772492799997719\n",
            "-0.00039508997119999087 -0.00039508997119999087\n",
            "-0.00045803598847999634 -0.00045803598847999634\n",
            "-0.0004832143953919986 -0.0004832143953919986\n",
            "-0.0004932857581567995 -0.0004932857581567995\n",
            "-0.0004973143032627198 -0.0004973143032627198\n",
            "-0.0004989257213050879 -0.0004989257213050879\n",
            "-0.0004995702885220352 -0.0004995702885220352\n",
            "-0.0004998281154088141 -0.0004998281154088141\n",
            "-0.0004999312461635257 -0.0004999312461635257\n",
            "-0.0004999724984654102 -0.0004999724984654102\n",
            "-0.0004999889993861641 -0.0004999889993861641\n",
            "-0.0004999955997544656 -0.0004999955997544656\n",
            "-0.0004999982399017862 -0.0004999982399017862\n",
            "-0.0004999992959607145 -0.0004999992959607145\n",
            "-0.0004999997183842858 -0.0004999997183842858\n",
            "-0.0004999998873537144 -0.0004999998873537144\n",
            "-0.0004999999549414858 -0.0004999999549414858\n",
            "-0.0004999999819765943 -0.0004999999819765943\n",
            "-0.0004999999927906378 -0.0004999999927906378\n",
            "-0.0004999999971162551 -0.0004999999971162551\n",
            "-0.000499999998846502 -0.000499999998846502\n",
            "-0.0004999999995386009 -0.0004999999995386009\n",
            "-0.0004999999998154404 -0.0004999999998154404\n",
            "-0.0004999999999261761 -0.0004999999999261761\n",
            "-0.0004999999999704705 -0.0004999999999704705\n"
          ]
        }
      ]
    },
    {
      "cell_type": "code",
      "source": [],
      "metadata": {
        "id": "PBX1s72ISeOG"
      },
      "execution_count": 13,
      "outputs": []
    },
    {
      "cell_type": "markdown",
      "source": [
        "# Unit 10: Interpolation and approximation"
      ],
      "metadata": {
        "id": "f_kCiPGsluA-"
      }
    },
    {
      "cell_type": "markdown",
      "source": [
        "In this unit we will have two main problemas:\n",
        "\n",
        "\n",
        "*   Interpolation problem: we have a mesh of points and we want a polynomial(a function) that descrivbes all those points (or their derivate). For this, we will have three ways:\n",
        "\n",
        ">*   Lagrange interpolation\n",
        "*   Newton interpolation\n",
        "*   Hermite interpolation(Spline/ Bézier curves)\n",
        "\n",
        "\n",
        "*   A curve that approximates said points. We will use the method:\n",
        "\n",
        ">* Least-square method (regretion line)\n",
        "\n"
      ],
      "metadata": {
        "id": "QCSXoaHWl7Hu"
      }
    },
    {
      "cell_type": "markdown",
      "source": [
        "##Interpolation problems"
      ],
      "metadata": {
        "id": "S2unhTVzl4Ql"
      }
    },
    {
      "cell_type": "markdown",
      "source": [
        "All sets of `n` points can be interpolated by a polynomial of degree `n-1`.\n",
        "\n",
        "In essence, our points will be of the form `(x0,y0)` with an equation: `y0=ax^3+bx0^2+cx+d` (if there's 4 points).\n",
        "\n",
        "The system of linear equations that result of joining all the equations of the points is always compatible, meaning there's a **unique solution**. But this method is slow so we will use other alternative methods:"
      ],
      "metadata": {
        "id": "t77M3pvmnCy9"
      }
    },
    {
      "cell_type": "markdown",
      "source": [
        "###Lagrange's interpolation"
      ],
      "metadata": {
        "id": "GglN-rdOm_i1"
      }
    },
    {
      "cell_type": "markdown",
      "source": [
        "For a mesh of points (x0,y0),(x1,y1),...,(xn,yn), we have the following polynomials:\n",
        "\n",
        "P0(x) = ((x-x1)(x-x2)...(x-xn))/((x0-x1)(x0-x2)...(x0-xn))\n",
        "By multiplying the points substracted from x and dividing by the same but susbtracted by x0. This will give th eresults:\n",
        ">P0(x0) = 1  &  p0(xj)=0 (if j != 0)\n",
        "\n",
        "This can be generalized like so:\n",
        "\n",
        "P(x) = [yi*Pi(x) for i o = up to n]\n",
        "\n",
        "In essence every Pi(x) is a polynomial that returns 1 if x = xi and 0 otherwise.\n",
        "\n",
        "It can be coded like so:"
      ],
      "metadata": {
        "id": "o0zkiaf2oHh1"
      }
    },
    {
      "cell_type": "code",
      "source": [
        "#t is a variable\n",
        "def lagrangeInterpolation(t,x,y):\n",
        "  sum = 0\n",
        "  n = len(x)\n",
        "  for i in range(n): #this for is the summatory mentioned before\n",
        "    term = y[i]\n",
        "    for j in range(n):\n",
        "      if j!=i:\n",
        "        term *= (t-x[j])/(x[i]-x[j]) #we will call x to t so we don't call the array for the calculation\n",
        "    sum += term #this is the sums that return the final result of the summatory\n",
        "  return sum"
      ],
      "metadata": {
        "id": "vjldnFoxpSXd"
      },
      "execution_count": 14,
      "outputs": []
    },
    {
      "cell_type": "code",
      "source": [
        "x = [0,1,2,3,4,5,6,7,8,9,10]\n",
        "y = [-1,2,0,-3,1,-10,9,1,1,1,1]\n",
        "\n",
        "t = np.linspace(x[0],x[len(x)-1],200)\n",
        "\n",
        "def p(t):\n",
        "  return lagrangeInterpolation(t,x,y);\n",
        "\n",
        "fig, ax = plt.subplots() #this defines a tuple because the function returns the figure(container where you draw things), and the axis\n",
        "ax.scatter(x,y)\n",
        "ax.plot(t,p(t)) #plot t versus pol\n",
        "\n",
        "plt.show()"
      ],
      "metadata": {
        "colab": {
          "base_uri": "https://localhost:8080/",
          "height": 430
        },
        "id": "6f99_DX1pcQt",
        "outputId": "b87b06b4-18d3-4f29-831b-53cd5cfb3d55"
      },
      "execution_count": 35,
      "outputs": [
        {
          "output_type": "display_data",
          "data": {
            "text/plain": [
              "<Figure size 640x480 with 1 Axes>"
            ],
            "image/png": "[encoded data removed]"
          },
          "metadata": {}
        }
      ]
    },
    {
      "cell_type": "markdown",
      "source": [
        "###Newton's interpolation"
      ],
      "metadata": {
        "id": "v6JQDx-qvCfh"
      }
    },
    {
      "cell_type": "markdown",
      "source": [
        "In this method I'll use the divided difference: instead of f(x), we will define\n",
        "* f[x] = f(x)\n",
        "* f[x,y] = (f(x)-(y))/(y-x)\n",
        "* f[x,y,...,k] = (f[y,...,k]-f[x,y,...,k-1])/(k-x)\n",
        "\n",
        "...given that x,y,...,k are diffent.\n",
        "\n",
        "What we'll do is:\n",
        "* Create a table with all the divided differences\n",
        " * First row will be all the single parameter divided differences\n",
        " * Second row will be all the double parametrer divided differences\n",
        " * Third row will be all the three element divided differences\n",
        " * and so on\n",
        "\n",
        "x0         | x1         |...| xn <br>\n",
        "f[x0] = y0 | f[x1] = y1 |...| f[xn-1]=yn-1 | f[xn]=yn <br>\n",
        "f[x0,x1]   | f[x1,x2]   |...| f[xn-1,xn] (one less column)\n",
        "\n",
        "The process goes like this:\n",
        "p(t) = f[x0] (as independent term) + f[x0,x1]*(t -x0)+ f[x0,x1,x2]*(t -x0)(t -x1)+ ... + f[x0,x1,...,xn]*(t-x0)(t-x1)...(t-xn-1))"
      ],
      "metadata": {
        "id": "kgw6pMrrvCQd"
      }
    },
    {
      "cell_type": "code",
      "source": [
        "def dividedDifferences(x,y):\n",
        "  '''\n",
        "  Parameters\n",
        "  ----------\n",
        "    x:float array\n",
        "        x coordinates of the points\n",
        "    y:float array\n",
        "        y coordinates of the points\n",
        "  Returns\n",
        "  -------\n",
        "    L: matrix\n",
        "        table of divided differences\n",
        "  '''\n",
        "  L=[y]\n",
        "  n = len(x) #n: number of points (x,y)\n",
        "\n",
        "  #computing the matrix that contains the table\n",
        "  for i in range(1,n):\n",
        "    row = []\n",
        "    for j in range(n-i):\n",
        "      row.append((L[i-1][j]-L[i-1][j+1])/(x[j]-x[j+i]))\n",
        "    L.append(row)\n",
        "\n",
        "  return L"
      ],
      "metadata": {
        "id": "iEdt4VIupqvt"
      },
      "execution_count": 33,
      "outputs": []
    },
    {
      "cell_type": "code",
      "source": [
        "x = [0,1,2,3]\n",
        "y = [-1,2,0,-3]\n",
        "print(dividedDifferences(x,y))"
      ],
      "metadata": {
        "colab": {
          "base_uri": "https://localhost:8080/"
        },
        "id": "4AWeurXbcVbU",
        "outputId": "d6a9e169-eeff-472f-c1ad-1dd48b811641"
      },
      "execution_count": 31,
      "outputs": [
        {
          "output_type": "stream",
          "name": "stdout",
          "text": [
            "[[-1, 2, 0, -3], [3.0, -2.0, -3.0], [-2.5, -0.5], [0.6666666666666666]]\n"
          ]
        }
      ]
    },
    {
      "cell_type": "code",
      "source": [
        "def dividedDifferencesForNewton(x,y):\n",
        "  '''\n",
        "  Parameters\n",
        "  ----------\n",
        "    x:float array\n",
        "        x coordinates of the points\n",
        "    y:float array\n",
        "        y coordinates of the points\n",
        "  Returns\n",
        "  -------\n",
        "    L: matrix\n",
        "        first elements of each row of the table of divided differences\n",
        "  '''\n",
        "  L=[y]\n",
        "  n = len(x) #n: number of points (x,y)\n",
        "\n",
        "  #computing the matrix that contains the table\n",
        "  for i in range(1,n):\n",
        "    row = []\n",
        "    for j in range(n-i):\n",
        "      row.append((L[i-1][j]-L[i-1][j+1])/(x[j]-x[j+i]))\n",
        "    L.append(row)\n",
        "\n",
        "  return [row[0] for row in L]\n",
        "\n",
        "#Newton's interpolation is quicker than Lagrange's Interpolation, although the result is the same\n",
        "#Another benefict of this approach is that we can add new elements, the only new computation we have to do is add a new diagonal to the divided differences\n",
        "def newtonInterpolation(t,x,y):\n",
        "  '''\n",
        "  Parameters\n",
        "  ----------\n",
        "    t: float\n",
        "        variable\n",
        "    x:float array\n",
        "        x coordinates of the points\n",
        "    y:float array\n",
        "        y coordinates of the points\n",
        "  Returns\n",
        "  -------\n",
        "    result: float\n",
        "      p(t)\n",
        "  '''\n",
        "  dd = dividedDifferencesForNewton(x,y)\n",
        "  n = len(x)\n",
        "\n",
        "  #these two lines are the first summand of p(t)\n",
        "  result = dd[0]\n",
        "  product = 1 #product of factors\n",
        "\n",
        "\n",
        "  for i in range(1,n): #n iterarions\n",
        "    product *= t-x[i-1]\n",
        "    result += dd[i]*product\n",
        "  return result"
      ],
      "metadata": {
        "id": "D3QNu5v-exO3"
      },
      "execution_count": 40,
      "outputs": []
    },
    {
      "cell_type": "code",
      "source": [
        "x = [0,1,2,3,4,5,6,7,8,9,10]\n",
        "y = [-1,2,0,-3,1,-10,9,1,1,1,1]\n",
        "\n",
        "t = np.linspace(x[0],x[len(x)-1],200)\n",
        "\n",
        "def p(t):\n",
        "  return newtonInterpolation(t,x,y);\n",
        "\n",
        "fig, ax = plt.subplots() #this defines a tuple because the function returns the figure(container where you draw things), and the axis\n",
        "ax.scatter(x,y)\n",
        "ax.plot(t,p(t)) #plot t versus pol\n",
        "\n",
        "plt.show()"
      ],
      "metadata": {
        "colab": {
          "base_uri": "https://localhost:8080/",
          "height": 430
        },
        "id": "PKQ5214Jcb2M",
        "outputId": "33c913f9-3392-46be-8237-d7b04f41912f"
      },
      "execution_count": 41,
      "outputs": [
        {
          "output_type": "display_data",
          "data": {
            "text/plain": [
              "<Figure size 640x480 with 1 Axes>"
            ],
            "image/png": "[encoded data removed]"
          },
          "metadata": {}
        }
      ]
    },
    {
      "cell_type": "markdown",
      "source": [
        "###Hermite's interpolation"
      ],
      "metadata": {
        "id": "VALO-mLzhRRH"
      }
    },
    {
      "cell_type": "markdown",
      "source": [
        "This can calculate a polynomial for a set of points with certain values for their first and second derivatives.\n",
        "\n",
        "* If we have a first derivative give, we just have to add another xn to the divided differences table.\n",
        "* If we have repeated terms, f[x,...(h)...,x]=f^(h-1)(x)/h!  ((h-1)-ith derivative)"
      ],
      "metadata": {
        "id": "Vizt8PUQhRMr"
      }
    },
    {
      "cell_type": "code",
      "source": [],
      "metadata": {
        "id": "MZQ0UJj6imZT"
      },
      "execution_count": null,
      "outputs": []
    }
  ]
}