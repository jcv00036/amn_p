{
  "nbformat": 4,
  "nbformat_minor": 0,
  "metadata": {
    "colab": {
      "provenance": [],
      "collapsed_sections": [
        "sQXLDh95XcFG",
        "W2jhgcaFW59n",
        "cGjcnF6FZNK2",
        "Eb2XVL1lfPMM",
        "KY-T1PLTEGg9",
        "nvaXH2nKexJV",
        "laKSIrUefY0s",
        "7pFAyKdbfyLD",
        "z1Mvqj8WElPk",
        "WcjeyUA4IvVp",
        "ezV9qoMNMptD",
        "f_kCiPGsluA-",
        "S2unhTVzl4Ql",
        "GglN-rdOm_i1",
        "v6JQDx-qvCfh",
        "VALO-mLzhRRH",
        "GgFxQ44Zq_yh",
        "R4QUcyQcu1WI",
        "1EIZBRIlJVbr",
        "4bWLgLMGdOEA",
        "TKJfnj--fNIQ",
        "ADLhIBmgiDff",
        "gsy8Ih7CjD8-",
        "uMjueyA0q9YY",
        "xS631eZtPEKI"
      ],
      "authorship_tag": "ABX9TyPq+iuOYwrnupxdjZS6fjkO",
      "include_colab_link": true
    },
    "kernelspec": {
      "name": "python3",
      "display_name": "Python 3"
    },
    "language_info": {
      "name": "python"
    }
  },
  "cells": [
    {
      "cell_type": "markdown",
      "metadata": {
        "id": "view-in-github",
        "colab_type": "text"
      },
      "source": [
        "<a href=\"https://colab.research.google.com/github/jcv00036/amn_p/blob/main/Notebook.ipynb\" target=\"_parent\"><img src=\"https://colab.research.google.com/assets/colab-badge.svg\" alt=\"Open In Colab\"/></a>"
      ]
    },
    {
      "cell_type": "code",
      "source": [
        "#Import all the libraries I can use\n",
        "import math\n",
        "import matplotlib.pyplot as plt\n",
        "import numpy as np"
      ],
      "metadata": {
        "id": "usDu34YJpl9Z"
      },
      "execution_count": 4,
      "outputs": []
    },
    {
      "cell_type": "markdown",
      "source": [
        "##Introduction:"
      ],
      "metadata": {
        "id": "sQXLDh95XcFG"
      }
    },
    {
      "cell_type": "markdown",
      "source": [
        "**[ f(x) = 0  <=>  x is a root of f(x) ]**\n",
        "\n",
        "\n",
        "---\n",
        "Ex:\n",
        "\n",
        ">  x+arctan(2x+1)=3, goes strictly increasing from -∞ to +∞ so it has exactly 1 solution.\n",
        ">\n",
        ">  It is not possible to compute the exact value but we can approximate.\n",
        "---"
      ],
      "metadata": {
        "id": "BM731jlMeuRu"
      }
    },
    {
      "cell_type": "markdown",
      "source": [
        "# Unit 9: Root Finding Algorithms"
      ],
      "metadata": {
        "id": "W2jhgcaFW59n"
      }
    },
    {
      "cell_type": "markdown",
      "source": [
        "## 1. Plotting functions:"
      ],
      "metadata": {
        "id": "cGjcnF6FZNK2"
      }
    },
    {
      "cell_type": "markdown",
      "source": [
        "###How it's coded:"
      ],
      "metadata": {
        "id": "Eb2XVL1lfPMM"
      }
    },
    {
      "cell_type": "markdown",
      "source": [
        "In order to plot functions in python, it is necessary to `import` the packages `matplotlib.pyplot` and `numpy`\n",
        "\n",
        "It is strongly advised to import ``matplotlib.pyplot` and `numpy` like so:\n",
        "\n",
        "\n",
        "```\n",
        "import matplotlib.pyplot as plt\n",
        "import numpy as np\n",
        "```\n",
        "\n",
        "\n",
        "\n",
        "How it works is: we divide the function in several evenly spaced points and evaluate it at those points. Now we only need to join them and we have a graph.\n",
        "\n",
        ">The closer the points are, the closer the graph will be to the actual fuction\n",
        "\n",
        "Ex:\n",
        "\n",
        "---\n",
        "> x+arctan(2x+1)=3 can be plotted like this:\n",
        "\n",
        "\n",
        "```\n",
        "fig, ax = plt.subplots() #this defines a tuple because the function returns the figure(container where you draw things), and the axis\n",
        "ax.plot(x,y)\n",
        "\n",
        "plt.show()\n",
        "```\n",
        "\n",
        "\n",
        "---\n"
      ],
      "metadata": {
        "id": "osdBZmiQeoB2"
      }
    },
    {
      "cell_type": "code",
      "execution_count": 5,
      "metadata": {
        "colab": {
          "base_uri": "https://localhost:8080/",
          "height": 0
        },
        "id": "5fssgcEgVd2A",
        "outputId": "92b3b943-907c-4598-ba65-2c3b7785186f"
      },
      "outputs": [
        {
          "output_type": "display_data",
          "data": {
            "text/plain": [
              "<Figure size 640x480 with 1 Axes>"
            ],
            "image/png": "[encoded data removed]"
          },
          "metadata": {}
        }
      ],
      "source": [
        "import math\n",
        "import matplotlib.pyplot as plt\n",
        "import numpy as np\n",
        "\n",
        "#Define the function: f(x) = x+arctan(2x+1)-3\n",
        "def f(x):\n",
        "  return x + np.arctan(2*x+1)-3\n",
        "\n",
        "#Now, everytime we grite f(x) given x some value, we will have a result to the ecuation.\n",
        "\n",
        "a = -3\n",
        "b = 3\n",
        "\n",
        "subdivisions = 1000000\n",
        "\n",
        "x = np.linspace(a,b,subdivisions) #subdivide x into \"subdivisions\" evenly spaced point from a to b\n",
        "#⬆Is the set of the points in x, meaning the domain\n",
        "\n",
        "y = f(x)\n",
        "#⬆Is the set of the points in y, meaning the codomain or image\n",
        "\n",
        "\n",
        "#now we define another function that returns 0\n",
        "y2 = [0 for n in range(subdivisions)]\n",
        "\n",
        "\n",
        "\n",
        "#********************************\n",
        "fig, ax = plt.subplots() #this defines a tuple because the function returns the figure(container where you draw things), and the axis\n",
        "ax.plot(x,y)\n",
        "ax.plot(x,y2) #second function\n",
        "ax.plot([-3,3],[0,0]) #this outputs the same graph than the function with image y2, but how it works is: given two points, it draws them and joins them\n",
        "ax.scatter([-3,3],[0,0]) #this outputs the same but without joining the points\n",
        "ax.scatter([-3],[1]) #this is a way of printing a point\n",
        "\n",
        "plt.show()\n",
        "#******************************** This code plots the function"
      ]
    },
    {
      "cell_type": "markdown",
      "source": [],
      "metadata": {
        "id": "w0-PehcAEFCM"
      }
    },
    {
      "cell_type": "markdown",
      "source": [
        "## 2. Find a solution to an equation:"
      ],
      "metadata": {
        "id": "KY-T1PLTEGg9"
      }
    },
    {
      "cell_type": "markdown",
      "source": [
        "###Bisection method:"
      ],
      "metadata": {
        "id": "nvaXH2nKexJV"
      }
    },
    {
      "cell_type": "markdown",
      "source": [
        "With two points, one positive and another negative (a and b):\n",
        "1. My approximation will be in (a+b)/2, meaning in the middle point between a and b\n",
        "\n",
        "How it's programmed:\n",
        "\n",
        "\n",
        ">Naïve method:\n",
        "\n",
        "```\n",
        "#I define my function\n",
        "#My points will be a and b, e.g. 1 and 2\n",
        "#I check if the sign changes in that interval\n",
        "  #If it does: reduce the interval from the right\n",
        "  #If it doesn't: reduce the interval from the left\n",
        "\n",
        "#Naive way\n",
        "def f(x):\n",
        "  return x + np.arctan(2*x+1)-3\n",
        "\n",
        "error = 0.0001\n",
        "a = 1\n",
        "b = 2\n",
        "\n",
        "while((b-a) > error):\n",
        "  c=(a+b)/2\n",
        "  if(f(c)*f(a)<0): #minus times minus returns minus, so if the result of the product is negative, it means that the solution is between c and a\n",
        "    b=c\n",
        "  else:\n",
        "    a=c\n",
        "\n",
        "print((a+b)/2) #The solution is between a and b, so I print the middlepoint\n",
        "```\n",
        "\n",
        ">More clever method:\n",
        "\n",
        "```\n",
        "# I do the same as before but I use a function:\n",
        "\n",
        "#More clever way, approached as a function\n",
        "def f(x):\n",
        "  return x + np.arctan(2*x+1)-3\n",
        "\n",
        "def bisection(f,a,b,error):\n",
        "  while((b-a) > error):\n",
        "    c=(a+b)/2\n",
        "    if(f(c)*f(a)<0): #minus times minus returns minus, so if the result of the product is negative, it means that the solution is between c and a\n",
        "      b=c\n",
        "    else:\n",
        "      a=c\n",
        "  return (a+b)/2\n",
        "\n",
        "print(bisection(f,1,2,0.0001))\n",
        "\n",
        "```\n",
        "\n",
        ">Better approach, the recursive one:\n",
        "\n",
        "```\n",
        "# I do the same as before but I use a recursive function:\n",
        "\n",
        "#Better way, using recursive functions:\n",
        "def f(x):\n",
        "  return x + np.arctan(2*x+1)-3\n",
        "\n",
        "def bisection(f,a,b,error):\n",
        "  if(b-a<2*error):\n",
        "    return (a+b)/2\n",
        "  if(f((a+b)/2)*f(a)<0): #minus times minus returns minus, so if the result of the product is negative, it means that the solution is between c and a\n",
        "    return bisection(f,a,(a+b)/2,error)\n",
        "  else:\n",
        "    return bisection(f,(a+b)/2,b,error)\n",
        "  return (a+b)/2\n",
        "\n",
        "print(bisection(f,1,2,0.0001))\n",
        "\n",
        "```"
      ],
      "metadata": {
        "id": "NVWmaucLe3OE"
      }
    },
    {
      "cell_type": "code",
      "source": [
        "#Naive way\n",
        "def f(x):\n",
        "  return x + np.arctan(2*x+1)-3\n",
        "\n",
        "error = 0.0001\n",
        "a = 1\n",
        "b = 2\n",
        "\n",
        "while((b-a) > error):\n",
        "  c=(a+b)/2\n",
        "  if(f(c)*f(a)<0): #minus times minus returns minus, so if the result of the product is negative, it means that the solution is between c and a\n",
        "    b=c\n",
        "  else:\n",
        "    a=c\n",
        "\n",
        "print((a+b)/2) #The solution is between a and b, so I print the middlepoint\n"
      ],
      "metadata": {
        "colab": {
          "base_uri": "https://localhost:8080/"
        },
        "id": "3tl-cu9giIMS",
        "outputId": "fb3208a5-ae99-4e79-83c9-13a46dd6639a"
      },
      "execution_count": 6,
      "outputs": [
        {
          "output_type": "stream",
          "name": "stdout",
          "text": [
            "1.657012939453125\n"
          ]
        }
      ]
    },
    {
      "cell_type": "code",
      "source": [
        "#More clever way, approached as a function\n",
        "def f(x):\n",
        "  return x + np.arctan(2*x+1)-3\n",
        "\n",
        "def bisection(f,a,b,error):\n",
        "  while((b-a) > error):\n",
        "    c=(a+b)/2\n",
        "    if(f(c)*f(a)<0): #minus times minus returns minus, so if the result of the product is negative, it means that the solution is between c and a\n",
        "      b=c\n",
        "    else:\n",
        "      a=c\n",
        "  return (a+b)/2\n",
        "\n",
        "print(bisection(f,1,2,0.0001))"
      ],
      "metadata": {
        "id": "fVJzoE9AkR9b",
        "colab": {
          "base_uri": "https://localhost:8080/"
        },
        "outputId": "7b89b017-8e6a-4cb4-e518-4811c8f5b908"
      },
      "execution_count": 7,
      "outputs": [
        {
          "output_type": "stream",
          "name": "stdout",
          "text": [
            "1.657012939453125\n"
          ]
        }
      ]
    },
    {
      "cell_type": "code",
      "source": [
        "#Better way, using recursive functions:\n",
        "def f(x):\n",
        "  return x + np.arctan(2*x+1)-3\n",
        "\n",
        "def bisection(f,a,b,error):\n",
        "  \"\"\"\n",
        "  Parameters\n",
        "  ----------\n",
        "    f: function\n",
        "        the function that represents our equation\n",
        "    a: float\n",
        "        left limit of the interval\n",
        "    b: float\n",
        "        rigth limit of the interval\n",
        "    error: float\n",
        "        maximum tolerable error\n",
        "\n",
        "  Returns\n",
        "  -------\n",
        "    solution: float\n",
        "        approximate solution to the equation\n",
        "  \"\"\"\n",
        "  if(b-a<2*error):\n",
        "    return (a+b)/2\n",
        "  if(f((a+b)/2)*f(a)<0): #minus times minus returns minus, so if the result of the product is negative, it means that the solution is between c and a\n",
        "    return bisection(f,a,(a+b)/2,error)\n",
        "  else:\n",
        "    return bisection(f,(a+b)/2,b,error)\n",
        "  return (a+b)/2\n",
        "\n",
        "print(bisection(f,1,2,0.0001))"
      ],
      "metadata": {
        "id": "lBNUkgvBlzHr",
        "colab": {
          "base_uri": "https://localhost:8080/"
        },
        "outputId": "e0427621-a506-44b6-cbc1-a4ccae84d996"
      },
      "execution_count": 8,
      "outputs": [
        {
          "output_type": "stream",
          "name": "stdout",
          "text": [
            "1.65704345703125\n"
          ]
        }
      ]
    },
    {
      "cell_type": "markdown",
      "source": [
        "###Regula falsi:"
      ],
      "metadata": {
        "id": "laKSIrUefY0s"
      }
    },
    {
      "cell_type": "markdown",
      "source": [
        "With two points, one positive and another negative (a and b):\n",
        "1. I join the two points and form a line.\n",
        "2. My approximation will be wherever this line is 0\n",
        "\n",
        ">It is coded like so:\n",
        "\n",
        "```\n",
        "#the same as the bisection method but the approximation point c is calculated\n",
        "#like so:\n",
        "#the points are: (a,f(a)) and (b,f(b)), so the equation of the line is:\n",
        "#y=f(a)+((f(b)-f(a))/(b-a))(x-a)\n",
        "#c = some x such that y=0\n",
        "\n",
        "def f(x):\n",
        "  return x + np.arctan(2*x+1)-3\n",
        "\n",
        "def regulaFalsi(f,a,b,tolerance):\n",
        "  c = ((a*f(b)-b*f(a))/(f(b)-f(a)))\n",
        "  if(b-c<tolerance or c-a < tolerance):\n",
        "    return (a+b)/2\n",
        "  if(f(c)*f(a)<0):\n",
        "    return regulaFalsi(f,a,c,tolerance)\n",
        "  else:\n",
        "    return regulaFalsi(f,c,b,tolerance)\n",
        "\n",
        "print(regulaFalsi(f,1,2,0.0001))\n",
        "```\n",
        "\n",
        "⬆I just changed the point c which before was (a+b)/2 (the mean point)\n",
        "\n",
        "Here we're not calculating with an error but a tolerance, meaning it is not the difference between the real point and the approximation, it is just an approximation wich might be close."
      ],
      "metadata": {
        "id": "ukwEmi4Bfcbg"
      }
    },
    {
      "cell_type": "code",
      "source": [
        "def f(x):\n",
        "  return x + np.arctan(2*x+1)-3\n",
        "\n",
        "def regulaFalsi(f,a,b,tolerance):\n",
        "  \"\"\"\n",
        "  Parameters\n",
        "  ----------\n",
        "    f: function\n",
        "        the function that represents our equation\n",
        "    a: float\n",
        "        left limit of the interval\n",
        "    b: float\n",
        "        rigth limit of the interval\n",
        "    tolerance: float\n",
        "        minimum difference between consecutive approximations\n",
        "\n",
        "  Returns\n",
        "  -------\n",
        "    solution: float\n",
        "        approximate solution to the equation\n",
        "  \"\"\"\n",
        "  c = (a*f(b)-b*f(a))/(f(b)-f(a))\n",
        "  if b-c<tolerance or c-a<tolerance:\n",
        "    return c\n",
        "  if f(a)*f(c)>0:\n",
        "    return regulaFalsi(f,c,b,tolerance)\n",
        "  else:\n",
        "    return regulaFalsi(f,a,c,tolerance)\n",
        "\n",
        "print(regulaFalsi(f,1,2,0.00001))"
      ],
      "metadata": {
        "colab": {
          "base_uri": "https://localhost:8080/"
        },
        "id": "kFGBlASOob3p",
        "outputId": "d290a5d6-8fb0-407a-f9ee-3b13de6bf425"
      },
      "execution_count": 9,
      "outputs": [
        {
          "output_type": "stream",
          "name": "stdout",
          "text": [
            "1.6569856870444324\n"
          ]
        }
      ]
    },
    {
      "cell_type": "markdown",
      "source": [
        "###Newton-Raphson's graph"
      ],
      "metadata": {
        "id": "7pFAyKdbfyLD"
      }
    },
    {
      "cell_type": "markdown",
      "source": [
        "With two points, one positive and another negative (a and b):\n",
        "1. I draw the tangent line at a\n",
        "2. My approximation will be wherever this tangent line has a value of 0\n",
        "\n",
        ">How it's coded:\n",
        "\n",
        "\n",
        "```\n",
        "#The equation for the tangent line can be expressed like so:\n",
        "#x=a-((f(a))/(f'(a)))\n",
        "\n",
        "def f(x):\n",
        "  return x + np.arctan(2*x+1)-3\n",
        "\n",
        "def derivative(f,x):\n",
        "  h = 0.001\n",
        "  return (f(x+h)-f(x))/h\n",
        "\n",
        "x = 1\n",
        "tolerance =0.0001\n",
        "\n",
        "while True:\n",
        "  xnew = x - f(x)/derivative(f,x) #here I calculate the new point with the formula above\n",
        "  if(x - xnew < tolerance):\n",
        "    x = xnew\n",
        "    break\n",
        "  x = xnew\n",
        "\n",
        "print(x)\n",
        "\n",
        "```\n",
        "\n"
      ],
      "metadata": {
        "id": "KCTGF42Uf1TD"
      }
    },
    {
      "cell_type": "code",
      "source": [
        "def f(x):\n",
        "  return x + np.arctan(2*x+1)-3\n",
        "\n",
        "def derivative(f,x):\n",
        "  h = 0.001\n",
        "  return (f(x+h)-f(x))/h\n",
        "\n",
        "x = 1\n",
        "tolerance =0.0001\n",
        "\n",
        "def newtonRalphson(f,x,tolerance):\n",
        "  \"\"\"\n",
        "  Parameters\n",
        "  ----------\n",
        "    f: function\n",
        "        the function that represents our equation\n",
        "    x: float\n",
        "        initial guess\n",
        "    tolerance: float\n",
        "        minimum difference between consecutive approximations\n",
        "\n",
        "  Returns\n",
        "  -------\n",
        "    x: float\n",
        "        approximate solution to the equation\n",
        "  \"\"\"\n",
        "  while True:\n",
        "    xnew = x - f(x)/derivative(f,x)\n",
        "    if(math.fabs(x - xnew) < tolerance):\n",
        "      x = xnew\n",
        "      break\n",
        "    x = xnew\n",
        "  return x\n",
        "\n",
        "print(newtonRalphson(f,x,tolerance))"
      ],
      "metadata": {
        "colab": {
          "base_uri": "https://localhost:8080/"
        },
        "id": "Bk-oTjMRrRMp",
        "outputId": "b4a3da99-cc77-4b7f-bc60-a4a02201a352"
      },
      "execution_count": 10,
      "outputs": [
        {
          "output_type": "stream",
          "name": "stdout",
          "text": [
            "1.6569856705111714\n"
          ]
        }
      ]
    },
    {
      "cell_type": "markdown",
      "source": [
        "###Iterative method"
      ],
      "metadata": {
        "id": "z1Mvqj8WElPk"
      }
    },
    {
      "cell_type": "markdown",
      "source": [
        "**This works whenever |g'(x0)| < 1 and we start close enough to x0**\n",
        "\n",
        ">How it works:\n",
        "We define a line y=x and we want to find the point where g(x) (my equation isolating y*) is equal to x.\n",
        "From a point x0, we compare both functions in an espiral way until g(x) = x, which will be the solution.\n",
        "\n",
        ">\\* For example, if my equatoin  is x+arctan(2x+1)=3, then my g(x)= 3-arctan(2x+1)\n",
        "\n",
        ">How it's coded:\n",
        "\n",
        "\n",
        "```\n",
        "def f(x):\n",
        "  return x + np.arctan(2*x+1)-3 #my function\n",
        "\n",
        "def g(x):\n",
        "  return 3-np.arctan(2*x+1) #the function I create\n",
        "\n",
        "while(True):\n",
        "  xnew = g(x)\n",
        "  if(abs(x-xnew)<0.0001): #If the difference between the point I estimate and the point I want is less than the error, I've made the aproximation I wanted\n",
        "    print(xnew)\n",
        "    break\n",
        "  else:\n",
        "    x = xnew; #Else, iterate again and find a point closer\n",
        "\n",
        "while(abs(x-xnew)>0.0001): #better way\n",
        "  x = xnew\n",
        "  xnew = g(x)\n",
        "  \n",
        "print(xnew)\n",
        "```\n",
        "\n",
        ">In coclusion, this method does and spiral around the point until it reaches x or a point in it's vecinity that's good enough\n",
        "\n"
      ],
      "metadata": {
        "id": "1Cu-_djNEgHU"
      }
    },
    {
      "cell_type": "code",
      "source": [
        "def f(x):\n",
        "  return x + np.arctan(2*x+1)-3 #my function\n",
        "\n",
        "def g(x):\n",
        "  return 3-np.arctan(2*x+1)\n",
        "\n",
        "while(True):\n",
        "  xnew = g(x)\n",
        "  if(abs(x-xnew)<0.0001):\n",
        "    print(xnew)\n",
        "    break\n",
        "  else:\n",
        "    x = xnew;\n",
        "\n",
        "while(abs(x-xnew)>0.0001): #better way\n",
        "  x = xnew\n",
        "  xnew = g(x)\n",
        "\n",
        "print(xnew)"
      ],
      "metadata": {
        "colab": {
          "base_uri": "https://localhost:8080/"
        },
        "id": "VVquBieMGJbH",
        "outputId": "3a4b8343-7093-4daf-e606-18a57101153c"
      },
      "execution_count": 11,
      "outputs": [
        {
          "output_type": "stream",
          "name": "stdout",
          "text": [
            "1.6569846696760524\n",
            "1.6569846696760524\n"
          ]
        }
      ]
    },
    {
      "cell_type": "markdown",
      "source": [
        "###Trisection method"
      ],
      "metadata": {
        "id": "WcjeyUA4IvVp"
      }
    },
    {
      "cell_type": "markdown",
      "source": [
        "* How it works:\n",
        "1. There's a function with a maximum and we want to see where it is. To do so, we don't want to derivate as that would mean doing things by hand and adding errors we cannot handle.\n",
        "2. So we restrict the function to a domain where there's only one maximum: [a,b]. Now, f(x) is unimodal on [a,b] when it has only one max/min and increases /decreases before/after it.\n",
        "3. Now we divide the interval in three different subintervals: [a,c1],[c1,c2] and [c2,b].\n",
        ">c1=(2a+b)/3    &    c2=(a+2b)/3\n",
        "4. We compare c1 and c2. Whichever is greater, describes us the curve, meaning we can discard one subinterval from the study.\n",
        "> For example, if there's a function where c1>c2, the maximum won't be in the interval [c2,b].\n",
        "\n",
        "\n",
        "*   How it's coded:\n",
        "\n",
        "\n",
        "```\n",
        "def trisection(f,a,b,error):\n",
        "  if(b-a)<2*error:\n",
        "    return(a+b)/2 #Return the midpoint\n",
        "\n",
        "  c1=(2*a+b)/3\n",
        "  c2=(a+2*b)/3\n",
        "\n",
        "  if f(c1) > f(c2):\n",
        "    return trisection(f,a,c2,error)\n",
        "  else:\n",
        "    return trisection(f,c1,b,error)\n",
        "```\n",
        "\n",
        "\n",
        "\n",
        "\n"
      ],
      "metadata": {
        "id": "pWvMFbnmIvVt"
      }
    },
    {
      "cell_type": "code",
      "source": [
        "def f(x):\n",
        "  return np.sin(x) # my function\n",
        "\n",
        "def trisection(f,a,b,error):\n",
        "  if(b-a)<2*error:\n",
        "    return(a+b)/2 #Return the midpoint\n",
        "\n",
        "  c1=(2*a+b)/3\n",
        "  c2=(a+2*b)/3\n",
        "\n",
        "  if f(c1) > f(c2):\n",
        "    return trisection(f,a,c2,error)\n",
        "  else:\n",
        "    return trisection(f,c1,b,error)\n",
        "\n",
        "print(\"An approximate value of pi is: \", 2*trisection(f,0,2,0.00000000000001))\n"
      ],
      "metadata": {
        "colab": {
          "base_uri": "https://localhost:8080/"
        },
        "outputId": "bc6f94ae-cdd2-4f31-9621-6c68c77e0459",
        "id": "1TMUzKk6IvVw"
      },
      "execution_count": 12,
      "outputs": [
        {
          "output_type": "stream",
          "name": "stdout",
          "text": [
            "An approximate value of pi is:  3.14159267466321\n"
          ]
        }
      ]
    },
    {
      "cell_type": "code",
      "source": [
        "def trisection(f,a,b,error,n):\n",
        "  if(b-a)<2*error:\n",
        "    return(a+b)/2 , n #Return the midpoint and n\n",
        "\n",
        "  c1=(2*a+b)/3\n",
        "  c2=(a+2*b)/3\n",
        "\n",
        "  if f(c1) > f(c2):\n",
        "    return trisection(f,a,c2,error,n+1)\n",
        "  else:\n",
        "    return trisection(f,c1,b,error,n+1)\n",
        "\n",
        "result, n = trisection(f,0,2,0.00000001,1)\n",
        "print(\"An approximate value of pi is: \", 2*result , \" and we needed \", n , \" iterations.\")\n"
      ],
      "metadata": {
        "colab": {
          "base_uri": "https://localhost:8080/"
        },
        "id": "fnoMqR2GM4K0",
        "outputId": "f834bd15-7f3c-4b44-8488-b6b40dbda99e"
      },
      "execution_count": 13,
      "outputs": [
        {
          "output_type": "stream",
          "name": "stdout",
          "text": [
            "An approximate value of pi is:  3.1415926644782743  and we needed  47  iterations.\n"
          ]
        }
      ]
    },
    {
      "cell_type": "markdown",
      "source": [
        "###Gradient descent method"
      ],
      "metadata": {
        "id": "ezV9qoMNMptD"
      }
    },
    {
      "cell_type": "markdown",
      "source": [
        "* How it works:\n",
        "1.   When you're looking for a maximum or  a minimum in a point x, if can approximate from the left or the right\n",
        "2.   In each side of the point, the sign of the derivate will be different and if you come close enough to x, very very small (meaning a almost horizontal tangent).\n",
        "3.   If the value of the derivative is very big, I should do a leap in the function bigger than if it were very small, as we can expect to be further from the point x.\n",
        "4. xn`1 = xn-λf'(xn) | Lamda being a parameter\n",
        "\n",
        "\n",
        "* How it's coded:\n",
        "\n",
        "This code works for a 1 variable function\n",
        "```\n",
        "a = 0.05 #for example, as a=λ\n",
        "while True:\n",
        "  xnew = x-a*derivative(f,x)\n",
        "  print(xnew) #prints the sequence of approximations\n",
        "  if(abs(x-xnew) < tolerance):\n",
        "    x=xnew\n",
        "    break\n",
        "  x=xnew\n",
        "```\n",
        "\n",
        "This code works for a 2 variable function\n",
        "```\n",
        "# two parameter functions:\n",
        "def f(x,y):\n",
        "  return x**2+y**2 #our solution is (0,0) as we know it's the minimum\n",
        "\n",
        "def gradient(f,x,y):\n",
        "  h=0.001\n",
        "  px=(f(x+h,y)-f(x,y))/h\n",
        "  py=(f(x,y+h)-f(x,y))/h\n",
        "  return [px,py]\n",
        "\n",
        "x = 1\n",
        "y = 1\n",
        "a = 0.3\n",
        "tolerance = 0.0000000000001 #tolerable error\n",
        "\n",
        "while True:\n",
        "  xnew = x-a*gradient(f,x,y)[0]\n",
        "  ynew = y-a*gradient(f,x,y)[1]\n",
        "  print(xnew,ynew)#prints the approximations\n",
        "  #the conditoin of this ⬇ if, is the euclidean? distance, the square of x and y in a sqrt\n",
        "  if((((x-xnew)**2+(y-ynew)**2)**(1/2))<tolerance): #if I reach the tolerance, I update and break\n",
        "    x=xnew\n",
        "    y=ynew\n",
        "    break\n",
        "  x=xnew #else, I update my numbers and come back again\n",
        "  y=ynew\n",
        "```\n",
        "\n",
        "\n",
        "\n",
        "\n",
        "\n",
        "\n"
      ],
      "metadata": {
        "id": "7_iDd_ppMq_T"
      }
    },
    {
      "cell_type": "code",
      "source": [
        "#one parameter functions:\n",
        "def f(x):\n",
        "  return x**2*(x-1)\n",
        "\n",
        "def derivative(f,x):\n",
        "  h=0.001\n",
        "  return (f(x+h)-f(x))/h\n",
        "\n",
        "x = 1\n",
        "a = 0.05\n",
        "tolerance = 0.0000000000000000000001\n",
        "\n",
        "while True:\n",
        "  xnew = x-a*derivative(f,x)\n",
        "  print(xnew) #prints the sequence of approximations\n",
        "  if(abs(x-xnew) < tolerance):\n",
        "    x=xnew\n",
        "    break\n",
        "  x=xnew"
      ],
      "metadata": {
        "colab": {
          "base_uri": "https://localhost:8080/"
        },
        "id": "xamxHhiiLrnG",
        "outputId": "af6760d6-447e-4e9f-cd42-b258a9576890"
      },
      "execution_count": 14,
      "outputs": [
        {
          "output_type": "stream",
          "name": "stdout",
          "text": [
            "0.9498999500000055\n",
            "0.9094509227560039\n",
            "0.876244400257929\n",
            "0.8486167162761764\n",
            "0.8253784957248488\n",
            "0.8056550393422227\n",
            "0.7887876386579166\n",
            "0.7742701435429786\n",
            "0.7617068290984345\n",
            "0.7507836119596343\n",
            "0.74124790081573\n",
            "0.7328941861426234\n",
            "0.7255535374167155\n",
            "0.719085817779088\n",
            "0.7133738246846772\n",
            "0.7083188190176566\n",
            "0.7038370706903836\n",
            "0.6998571588871147\n",
            "0.6963178397751616\n",
            "0.6931663459783403\n",
            "0.6903570181447334\n",
            "0.687850194531233\n",
            "0.6856113029376782\n",
            "0.6836101127286199\n",
            "0.6818201145508469\n",
            "0.6802180026978293\n",
            "0.6787832405880733\n",
            "0.6774976940053045\n",
            "0.6763453199443583\n",
            "0.6753119013692057\n",
            "0.6743848201012878\n",
            "0.6735528615509434\n",
            "0.6728060461812855\n",
            "0.6721354835257731\n",
            "0.6715332453236572\n",
            "0.6709922549329861\n",
            "0.6705061906610377\n",
            "0.6700694010413255\n",
            "0.66967683040352\n",
            "0.669323953342415\n",
            "0.6690067169059671\n",
            "0.6687214894992335\n",
            "0.6684650156480212\n",
            "0.6682343758886802\n",
            "0.6680269511532633\n",
            "0.6678403911058473\n",
            "0.6676725859589041\n",
            "0.6675216413607432\n",
            "0.6673858559978729\n",
            "0.6672637016013583\n",
            "0.6671538050850421\n",
            "0.6670549325768655\n",
            "0.6669659751333972\n",
            "0.6668859359526209\n",
            "0.6668139189217793\n",
            "0.6667491183559453\n",
            "0.6666908097995219\n",
            "0.6666383417773325\n",
            "0.6665911283946555\n",
            "0.6665486426966916\n",
            "0.6665104107078377\n",
            "0.6664760060797259\n",
            "0.6664450452847898\n",
            "0.6664171832987784\n",
            "0.6663921097217804\n",
            "0.6663695452925817\n",
            "0.6663492387560295\n",
            "0.6663309640472083\n",
            "0.6663145177601109\n",
            "0.6662997168717737\n",
            "0.66628639669591\n",
            "0.6662744090426942\n",
            "0.6662636205638297\n",
            "0.6662539112641057\n",
            "0.6662451731626189\n",
            "0.6662373090885338\n",
            "0.6662302315977946\n",
            "0.6662238619986063\n",
            "0.666218129474716\n",
            "0.6662129702966479\n",
            "0.6662083271120458\n",
            "0.6662041483071687\n",
            "0.6662003874323876\n",
            "0.6661970026852523\n",
            "0.6661939564453531\n",
            "0.6661912148557755\n",
            "0.6661887474464723\n",
            "0.666186526795358\n",
            "0.6661845282233251\n",
            "0.6661827295198028\n",
            "0.6661811106957863\n",
            "0.6661796537615797\n",
            "0.6661783425267882\n",
            "0.666177162420327\n",
            "0.6661761003284375\n",
            "0.666175144448912\n",
            "0.6661742841599053\n",
            "0.6661735099018768\n",
            "0.6661728130713308\n",
            "0.6661721859251986\n",
            "0.6661716214947753\n",
            "0.6661711135082822\n",
            "0.6661706563211551\n",
            "0.6661702448533189\n",
            "0.6661698745327336\n",
            "0.6661695412445823\n",
            "0.6661692412855511\n",
            "0.6661689713226685\n",
            "0.6661687283562715\n",
            "0.6661685096866738\n",
            "0.6661683128841634\n",
            "0.6661681357620076\n",
            "0.6661679763521486\n",
            "0.6661678328833438\n",
            "0.6661677037614723\n",
            "0.6661675875518304\n",
            "0.6661674829631856\n",
            "0.666167388833433\n",
            "0.6661673041166785\n",
            "0.6661672278716169\n",
            "0.6661671592510743\n",
            "0.6661670974925968\n",
            "0.6661670419099763\n",
            "0.6661669918856237\n",
            "0.6661669468637125\n",
            "0.6661669063439957\n",
            "0.6661668698762544\n",
            "0.666166837055289\n",
            "0.6661668075164218\n",
            "0.6661667809314431\n",
            "0.6661667570049629\n",
            "0.6661667354711311\n",
            "0.6661667160906839\n",
            "0.6661666986482822\n",
            "0.6661666829501214\n",
            "0.6661666688217757\n",
            "0.6661666561062651\n",
            "0.6661666446623055\n",
            "0.6661666343627415\n",
            "0.6661666250931342\n",
            "0.6661666167504867\n",
            "0.6661666092421052\n",
            "0.6661666024845607\n",
            "0.6661665964027714\n",
            "0.666166590929161\n",
            "0.6661665860029113\n",
            "0.6661665815692857\n",
            "0.6661665775790233\n",
            "0.6661665739877862\n",
            "0.666166570755673\n",
            "0.6661665678467708\n",
            "0.6661665652287594\n",
            "0.6661665628725497\n",
            "0.6661665607519599\n",
            "0.6661665588434282\n",
            "0.6661665571257509\n",
            "0.6661665555798403\n",
            "0.6661665541885199\n",
            "0.6661665529363326\n",
            "0.6661665518093647\n",
            "0.6661665507950927\n",
            "0.6661665498822479\n",
            "0.666166549060687\n",
            "0.666166548321284\n",
            "0.6661665476558191\n",
            "0.6661665470569009\n",
            "0.6661665465178752\n",
            "0.6661665460327522\n",
            "0.6661665455961416\n",
            "0.6661665452031921\n",
            "0.6661665448495375\n",
            "0.666166544531249\n",
            "0.6661665442447893\n",
            "0.6661665439869746\n",
            "0.6661665437549422\n",
            "0.6661665435461135\n",
            "0.6661665433581666\n",
            "0.6661665431890145\n",
            "0.6661665430367779\n",
            "0.6661665428997638\n",
            "0.6661665427764514\n",
            "0.6661665426654707\n",
            "0.666166542565588\n",
            "0.6661665424756933\n",
            "0.6661665423947871\n",
            "0.6661665423219718\n",
            "0.6661665422564396\n",
            "0.6661665421974603\n",
            "0.6661665421443792\n",
            "0.6661665420966063\n",
            "0.6661665420536101\n",
            "0.6661665420149133\n",
            "0.6661665419800856\n",
            "0.6661665419487413\n",
            "0.6661665419205318\n",
            "0.6661665418951438\n",
            "0.6661665418722926\n",
            "0.6661665418517271\n",
            "0.6661665418332197\n",
            "0.6661665418165621\n",
            "0.6661665418015699\n",
            "0.6661665417880779\n",
            "0.6661665417759335\n",
            "0.6661665417650033\n",
            "0.6661665417551681\n",
            "0.6661665417463154\n",
            "0.6661665417383468\n",
            "0.6661665417311775\n",
            "0.6661665417247243\n",
            "0.6661665417189164\n",
            "0.6661665417136886\n",
            "0.666166541708984\n",
            "0.66616654170475\n",
            "0.6661665417009391\n",
            "0.66616654169751\n",
            "0.6661665416944236\n",
            "0.6661665416916452\n",
            "0.6661665416891458\n",
            "0.6661665416868948\n",
            "0.6661665416848701\n",
            "0.6661665416830466\n",
            "0.6661665416814062\n",
            "0.6661665416799296\n",
            "0.6661665416786001\n",
            "0.6661665416774039\n",
            "0.6661665416763269\n",
            "0.6661665416753583\n",
            "0.6661665416744867\n",
            "0.6661665416737026\n",
            "0.6661665416729963\n",
            "0.6661665416723607\n",
            "0.6661665416717889\n",
            "0.6661665416712741\n",
            "0.6661665416708106\n",
            "0.6661665416703942\n",
            "0.6661665416700195\n",
            "0.6661665416696823\n",
            "0.6661665416693783\n",
            "0.6661665416691049\n",
            "0.6661665416688594\n",
            "0.6661665416686373\n",
            "0.6661665416684375\n",
            "0.6661665416682571\n",
            "0.6661665416680946\n",
            "0.6661665416679503\n",
            "0.6661665416678199\n",
            "0.6661665416677018\n",
            "0.666166541667595\n",
            "0.6661665416675007\n",
            "0.6661665416674146\n",
            "0.6661665416673369\n",
            "0.6661665416672675\n",
            "0.6661665416672051\n",
            "0.6661665416671483\n",
            "0.666166541667097\n",
            "0.6661665416670526\n",
            "0.6661665416670124\n",
            "0.6661665416669749\n",
            "0.6661665416669416\n",
            "0.6661665416669125\n",
            "0.666166541666886\n",
            "0.6661665416668625\n",
            "0.6661665416668416\n",
            "0.6661665416668208\n",
            "0.6661665416668028\n",
            "0.6661665416667875\n",
            "0.6661665416667736\n",
            "0.6661665416667597\n",
            "0.6661665416667486\n",
            "0.6661665416667388\n",
            "0.6661665416667291\n",
            "0.6661665416667193\n",
            "0.666166541666711\n",
            "0.6661665416667054\n",
            "0.6661665416666999\n",
            "0.6661665416666943\n",
            "0.6661665416666902\n",
            "0.666166541666686\n",
            "0.6661665416666818\n",
            "0.6661665416666775\n",
            "0.6661665416666748\n",
            "0.6661665416666707\n",
            "0.6661665416666679\n",
            "0.6661665416666651\n",
            "0.6661665416666638\n",
            "0.6661665416666624\n",
            "0.6661665416666611\n",
            "0.6661665416666598\n",
            "0.6661665416666585\n",
            "0.6661665416666571\n",
            "0.6661665416666558\n",
            "0.6661665416666545\n",
            "0.6661665416666531\n",
            "0.6661665416666518\n",
            "0.6661665416666505\n",
            "0.6661665416666505\n"
          ]
        }
      ]
    },
    {
      "cell_type": "code",
      "source": [
        "#two parameter functions:\n",
        "def f(x,y):\n",
        "  return x**2+y**2 #our solution is (0,0) as we know it's the minimum\n",
        "\n",
        "def gradient(f,x,y):\n",
        "  h=0.001\n",
        "  px=(f(x+h,y)-f(x,y))/h\n",
        "  py=(f(x,y+h)-f(x,y))/h\n",
        "  return [px,py]\n",
        "\n",
        "x = 1\n",
        "y = 1\n",
        "a = 0.3\n",
        "tolerance = 0.0000000000001 #tolerable error\n",
        "\n",
        "while True:\n",
        "  xnew = x-a*gradient(f,x,y)[0]\n",
        "  ynew = y-a*gradient(f,x,y)[1]\n",
        "  print(xnew,ynew)#prints the approximations\n",
        "  #the conditoin of this ⬇ if, is the euclidean? distance, the square of x and y in a sqrt\n",
        "  if((((x-xnew)**2+(y-ynew)**2)**(1/2))<tolerance): #if I reach the tolerance, I update and break\n",
        "    x=xnew\n",
        "    y=ynew\n",
        "    break\n",
        "  x=xnew #else, I update my numbers and come back again\n",
        "  y=ynew"
      ],
      "metadata": {
        "colab": {
          "base_uri": "https://localhost:8080/"
        },
        "id": "Ueyl0YbzOPTR",
        "outputId": "4a891cec-7347-4565-9576-7e1acd8aee11"
      },
      "execution_count": 15,
      "outputs": [
        {
          "output_type": "stream",
          "name": "stdout",
          "text": [
            "0.39970000000002415 0.39970000000002415\n",
            "0.15958000000001382 0.15958000000001382\n",
            "0.06353200000000553 0.06353200000000553\n",
            "0.02511280000000221 0.02511280000000221\n",
            "0.009745120000000912 0.009745120000000912\n",
            "0.0035980480000003577 0.0035980480000003577\n",
            "0.0011392192000001422 0.0011392192000001422\n",
            "0.00015568768000005697 0.00015568768000005697\n",
            "-0.00023772492799997719 -0.00023772492799997719\n",
            "-0.00039508997119999087 -0.00039508997119999087\n",
            "-0.00045803598847999634 -0.00045803598847999634\n",
            "-0.0004832143953919986 -0.0004832143953919986\n",
            "-0.0004932857581567995 -0.0004932857581567995\n",
            "-0.0004973143032627198 -0.0004973143032627198\n",
            "-0.0004989257213050879 -0.0004989257213050879\n",
            "-0.0004995702885220352 -0.0004995702885220352\n",
            "-0.0004998281154088141 -0.0004998281154088141\n",
            "-0.0004999312461635257 -0.0004999312461635257\n",
            "-0.0004999724984654102 -0.0004999724984654102\n",
            "-0.0004999889993861641 -0.0004999889993861641\n",
            "-0.0004999955997544656 -0.0004999955997544656\n",
            "-0.0004999982399017862 -0.0004999982399017862\n",
            "-0.0004999992959607145 -0.0004999992959607145\n",
            "-0.0004999997183842858 -0.0004999997183842858\n",
            "-0.0004999998873537144 -0.0004999998873537144\n",
            "-0.0004999999549414858 -0.0004999999549414858\n",
            "-0.0004999999819765943 -0.0004999999819765943\n",
            "-0.0004999999927906378 -0.0004999999927906378\n",
            "-0.0004999999971162551 -0.0004999999971162551\n",
            "-0.000499999998846502 -0.000499999998846502\n",
            "-0.0004999999995386009 -0.0004999999995386009\n",
            "-0.0004999999998154404 -0.0004999999998154404\n",
            "-0.0004999999999261761 -0.0004999999999261761\n",
            "-0.0004999999999704705 -0.0004999999999704705\n"
          ]
        }
      ]
    },
    {
      "cell_type": "code",
      "source": [],
      "metadata": {
        "id": "PBX1s72ISeOG"
      },
      "execution_count": 15,
      "outputs": []
    },
    {
      "cell_type": "markdown",
      "source": [
        "# Unit 10: Interpolation and approximation"
      ],
      "metadata": {
        "id": "f_kCiPGsluA-"
      }
    },
    {
      "cell_type": "markdown",
      "source": [
        "In this unit we will have two main problemas:\n",
        "\n",
        "\n",
        "*   Interpolation problem: we have a mesh of points and we want a polynomial(a function) that descrivbes all those points (or their derivate). For this, we will have three ways:\n",
        "\n",
        ">*   Lagrange interpolation\n",
        "*   Newton interpolation\n",
        "*   Hermite interpolation(Spline/ Bézier curves)\n",
        "\n",
        "\n",
        "*   A curve that approximates said points. We will use the method:\n",
        "\n",
        ">* Least-square method (regretion line)\n",
        "\n"
      ],
      "metadata": {
        "id": "QCSXoaHWl7Hu"
      }
    },
    {
      "cell_type": "markdown",
      "source": [
        "##Interpolation problems"
      ],
      "metadata": {
        "id": "S2unhTVzl4Ql"
      }
    },
    {
      "cell_type": "markdown",
      "source": [
        "All sets of `n` points can be interpolated by a polynomial of degree `n-1`.\n",
        "\n",
        "In essence, our points will be of the form `(x0,y0)` with an equation: `y0=ax^3+bx0^2+cx+d` (if there's 4 points).\n",
        "\n",
        "The system of linear equations that result of joining all the equations of the points is always compatible, meaning there's a **unique solution**. But this method is slow so we will use other alternative methods:"
      ],
      "metadata": {
        "id": "t77M3pvmnCy9"
      }
    },
    {
      "cell_type": "markdown",
      "source": [
        "###Lagrange's interpolation"
      ],
      "metadata": {
        "id": "GglN-rdOm_i1"
      }
    },
    {
      "cell_type": "markdown",
      "source": [
        "For a mesh of points (x0,y0),(x1,y1),...,(xn,yn), we have the following polynomials:\n",
        "\n",
        "P0(x) = ((x-x1)(x-x2)...(x-xn))/((x0-x1)(x0-x2)...(x0-xn))\n",
        "By multiplying the points substracted from x and dividing by the same but susbtracted by x0. This will give th eresults:\n",
        ">P0(x0) = 1  &  p0(xj)=0 (if j != 0)\n",
        "\n",
        "This can be generalized like so:\n",
        "\n",
        "P(x) = [yi*Pi(x) for i o = up to n]\n",
        "\n",
        "In essence every Pi(x) is a polynomial that returns 1 if x = xi and 0 otherwise.\n",
        "\n",
        "It can be coded like so:"
      ],
      "metadata": {
        "id": "o0zkiaf2oHh1"
      }
    },
    {
      "cell_type": "code",
      "source": [
        "#t is a variable\n",
        "def lagrangeInterpolation(t,x,y):\n",
        "  sum = 0\n",
        "  n = len(x)\n",
        "  for i in range(n): #this for is the summatory mentioned before\n",
        "    term = y[i]\n",
        "    for j in range(n):\n",
        "      if j!=i:\n",
        "        term *= (t-x[j])/(x[i]-x[j]) #we will call x to t so we don't call the array for the calculation\n",
        "    sum += term #this is the sums that return the final result of the summatory\n",
        "  return sum"
      ],
      "metadata": {
        "id": "vjldnFoxpSXd"
      },
      "execution_count": 16,
      "outputs": []
    },
    {
      "cell_type": "code",
      "source": [
        "x = [0,1,2,3,4,5,6,7,8,9,10]\n",
        "y = [-1,2,0,-3,1,-10,9,1,1,1,1]\n",
        "\n",
        "t = np.linspace(x[0],x[len(x)-1],200)\n",
        "\n",
        "def p(t):\n",
        "  return lagrangeInterpolation(t,x,y);\n",
        "\n",
        "fig, ax = plt.subplots() #this defines a tuple because the function returns the figure(container where you draw things), and the axis\n",
        "ax.scatter(x,y)\n",
        "ax.plot(t,p(t)) #plot t versus pol\n",
        "\n",
        "plt.show()"
      ],
      "metadata": {
        "colab": {
          "base_uri": "https://localhost:8080/",
          "height": 0
        },
        "id": "6f99_DX1pcQt",
        "outputId": "7c2a25ec-391e-48ec-e02c-e857132368c7"
      },
      "execution_count": 17,
      "outputs": [
        {
          "output_type": "display_data",
          "data": {
            "text/plain": [
              "<Figure size 640x480 with 1 Axes>"
            ],
            "image/png": "[encoded data removed]"
          },
          "metadata": {}
        }
      ]
    },
    {
      "cell_type": "markdown",
      "source": [
        "###Newton's interpolation"
      ],
      "metadata": {
        "id": "v6JQDx-qvCfh"
      }
    },
    {
      "cell_type": "markdown",
      "source": [
        "In this method I'll use the divided difference: instead of f(x), we will define\n",
        "* f[x] = f(x)\n",
        "* f[x,y] = (f(x)-(y))/(y-x)\n",
        "* f[x,y,...,k] = (f[y,...,k]-f[x,y,...,k-1])/(k-x)\n",
        "\n",
        "...given that x,y,...,k are diffent.\n",
        "\n",
        "What we'll do is:\n",
        "* Create a table with all the divided differences\n",
        " * First row will be all the single parameter divided differences\n",
        " * Second row will be all the double parametrer divided differences\n",
        " * Third row will be all the three element divided differences\n",
        " * and so on\n",
        "\n",
        "x0         | x1         |...| xn <br>\n",
        "f[x0] = y0 | f[x1] = y1 |...| f[xn-1]=yn-1 | f[xn]=yn <br>\n",
        "f[x0,x1]   | f[x1,x2]   |...| f[xn-1,xn] (one less column)\n",
        "\n",
        "The process goes like this:\n",
        "p(t) = f[x0] (as independent term) + f[x0,x1]*(t -x0)+ f[x0,x1,x2]*(t -x0)(t -x1)+ ... + f[x0,x1,...,xn]*(t-x0)(t-x1)...(t-xn-1))"
      ],
      "metadata": {
        "id": "kgw6pMrrvCQd"
      }
    },
    {
      "cell_type": "code",
      "source": [
        "def dividedDifferences(x,y):\n",
        "  '''\n",
        "  Parameters\n",
        "  ----------\n",
        "    x:float array\n",
        "        x coordinates of the points\n",
        "    y:float array\n",
        "        y coordinates of the points\n",
        "  Returns\n",
        "  -------\n",
        "    L: matrix\n",
        "        table of divided differences\n",
        "  '''\n",
        "  L=[y]\n",
        "  n = len(x) #n: number of points (x,y), degree of the polynomial\n",
        "\n",
        "  #computing the matrix that contains the table\n",
        "  for i in range(1,n):\n",
        "    row = []\n",
        "    for j in range(n-i):\n",
        "      row.append((L[i-1][j]-L[i-1][j+1])/(x[j]-x[j+i]))\n",
        "    L.append(row)\n",
        "\n",
        "  return L"
      ],
      "metadata": {
        "id": "iEdt4VIupqvt"
      },
      "execution_count": 18,
      "outputs": []
    },
    {
      "cell_type": "code",
      "source": [
        "x = [0,1,2,3]\n",
        "y = [-1,2,0,-3]\n",
        "print(dividedDifferences(x,y))"
      ],
      "metadata": {
        "colab": {
          "base_uri": "https://localhost:8080/"
        },
        "id": "4AWeurXbcVbU",
        "outputId": "230cc9f2-17eb-4d81-a018-c2f5a1b1cc5c"
      },
      "execution_count": 19,
      "outputs": [
        {
          "output_type": "stream",
          "name": "stdout",
          "text": [
            "[[-1, 2, 0, -3], [3.0, -2.0, -3.0], [-2.5, -0.5], [0.6666666666666666]]\n"
          ]
        }
      ]
    },
    {
      "cell_type": "code",
      "source": [
        "def dividedDifferencesForNewton(x,y):\n",
        "  '''\n",
        "  Parameters\n",
        "  ----------\n",
        "    x:float array\n",
        "        x coordinates of the points\n",
        "    y:float array\n",
        "        y coordinates of the points\n",
        "  Returns\n",
        "  -------\n",
        "    L: matrix\n",
        "        first elements of each row of the table of divided differences\n",
        "  '''\n",
        "  L=[y]\n",
        "  n = len(x) #n: number of points (x,y)\n",
        "\n",
        "  #computing the matrix that contains the table\n",
        "  for i in range(1,n):\n",
        "    row = []\n",
        "    for j in range(n-i):\n",
        "      row.append((L[i-1][j]-L[i-1][j+1])/(x[j]-x[j+i]))\n",
        "    L.append(row)\n",
        "\n",
        "  return [row[0] for row in L]\n",
        "\n",
        "#Newton's interpolation is quicker than Lagrange's Interpolation, although the result is the same\n",
        "#Another benefict of this approach is that we can add new elements, the only new computation we have to do is add a new diagonal to the divided differences\n",
        "def newtonInterpolation(t,x,y):\n",
        "  '''\n",
        "  Parameters\n",
        "  ----------\n",
        "    t: float\n",
        "        variable\n",
        "    x:float array\n",
        "        x coordinates of the points\n",
        "    y:float array\n",
        "        y coordinates of the points\n",
        "  Returns\n",
        "  -------\n",
        "    result: float\n",
        "      p(t)\n",
        "  '''\n",
        "  dd = dividedDifferencesForNewton(x,y)\n",
        "  n = len(x)\n",
        "\n",
        "  #these two lines are the first summand of p(t)\n",
        "  result = dd[0]\n",
        "  product = 1 #product of factors\n",
        "\n",
        "\n",
        "  for i in range(1,n): #n iterarions\n",
        "    product *= t-x[i-1]\n",
        "    result += dd[i]*product\n",
        "  return result"
      ],
      "metadata": {
        "id": "D3QNu5v-exO3"
      },
      "execution_count": 20,
      "outputs": []
    },
    {
      "cell_type": "code",
      "source": [
        "x = [0,1,2,3,4,5,6,7,8,9,10]\n",
        "y = [-1,2,0,-3,1,-10,9,1,1,1,1]\n",
        "\n",
        "t = np.linspace(x[0],x[len(x)-1],200)\n",
        "\n",
        "def p(t):\n",
        "  return newtonInterpolation(t,x,y);\n",
        "\n",
        "fig, ax = plt.subplots() #this defines a tuple because the function returns the figure(container where you draw things), and the axis\n",
        "ax.scatter(x,y)\n",
        "ax.plot(t,p(t)) #plot t versus pol\n",
        "\n",
        "plt.show()"
      ],
      "metadata": {
        "colab": {
          "base_uri": "https://localhost:8080/",
          "height": 0
        },
        "id": "PKQ5214Jcb2M",
        "outputId": "bcaa76fc-0bda-4dd4-f2b7-b3bc0f92ab1e"
      },
      "execution_count": 21,
      "outputs": [
        {
          "output_type": "display_data",
          "data": {
            "text/plain": [
              "<Figure size 640x480 with 1 Axes>"
            ],
            "image/png": "[encoded data removed]"
          },
          "metadata": {}
        }
      ]
    },
    {
      "cell_type": "markdown",
      "source": [
        "###Hermite's interpolation"
      ],
      "metadata": {
        "id": "VALO-mLzhRRH"
      }
    },
    {
      "cell_type": "markdown",
      "source": [
        "This can calculate a polynomial for a set of points with certain values for their first and second derivatives.\n",
        "\n",
        "* If we have a first derivative give, we just have to add another xn to the divided differences table.\n",
        "*f[x0,...,xi] =(f[x0,...,xi-1]-f[x1,...,xi])/(x0-xi)\n",
        "* If we have repeated terms, f[x,...(h)...,x]=f^(h-1)(x)/h!  ((h-1)-ith derivative)"
      ],
      "metadata": {
        "id": "Vizt8PUQhRMr"
      }
    },
    {
      "cell_type": "code",
      "source": [
        "def dividedDifferencesForHermite(list):\n",
        "  '''\n",
        "  Parameters\n",
        "  ----------\n",
        "    list: float array\n",
        "        this list stores all the vectors that define the points with this format:\n",
        "         [(x0,y0,y'0,y''0,...),(x1,y1,y'1,y''1,...),...]\n",
        "\n",
        "  Returns\n",
        "  -------\n",
        "    L: matrix\n",
        "        first elements of each row of the table of divided differences\n",
        "  '''\n",
        "  L = []\n",
        "  points = []\n",
        "  pointer = []\n",
        "  row = []\n",
        "  n = 0\n",
        "\n",
        "  for i in range(len(list)):\n",
        "    n = n + len(list[i]) - 1\n",
        "    for j in range(1,len(list[i])):\n",
        "      points.append(list[i][0])\n",
        "      pointer.append(i)\n",
        "      row.append(list[i][1])\n",
        "  L.append(row)\n",
        "\n",
        "  for i in range(1,n):\n",
        "    row = []\n",
        "    for j in range(n-i):\n",
        "      if (points[j] != points[j+i]):\n",
        "        row.append((L[i-1][j]-L[i-1][j+1])/(points[j]-points[j+i]))\n",
        "      else:\n",
        "        row.append(list[pointer[j]][i+1]/math.factorial(i))\n",
        "    L.append(row)\n",
        "\n",
        "  return [row[0] for row in L]\n",
        "\n",
        "def hermiteInterpolation(t,list):\n",
        "  '''\n",
        "  Parameters\n",
        "  ----------\n",
        "    t: float\n",
        "        variable\n",
        "    list: float array\n",
        "        this list stores all the vectors that define the points with this format:\n",
        "         [(x0,y0,y'0,y''0,...),(x1,y1,y'1,y''1,...),...]\n",
        "  Returns\n",
        "  -------\n",
        "    result: float\n",
        "      p(t)\n",
        "  '''\n",
        "  dd = dividedDifferencesForHermite(list)\n",
        "  points = [] #this vector contains all the points\n",
        "\n",
        "  for i in range(len(list)):\n",
        "    for j in range(1,len(list[i])):\n",
        "      points.append(list[i][0])\n",
        "\n",
        "  #these two lines are the first summand of p(t)\n",
        "  result = dd[0]\n",
        "  product = 1 #product of factors\n",
        "\n",
        "  for i in range(1,len(points)): #n iterarions\n",
        "    product *= t-points[i-1]\n",
        "    result += dd[i]*product\n",
        "  return result"
      ],
      "metadata": {
        "id": "MZQ0UJj6imZT"
      },
      "execution_count": 22,
      "outputs": []
    },
    {
      "cell_type": "code",
      "source": [
        "data = [[0,1,-1],[1,2,3,-1,2],[2,-1]]\n",
        "\n",
        "t = np.linspace(0,2,200)\n",
        "\n",
        "def p(t):\n",
        "  return hermiteInterpolation(t,data);\n",
        "\n",
        "fig, ax = plt.subplots()\n",
        "ax.scatter([0,1,2],[1,2,-1])\n",
        "ax.plot(t,p(t))\n",
        "\n",
        "plt.show()"
      ],
      "metadata": {
        "colab": {
          "base_uri": "https://localhost:8080/",
          "height": 0
        },
        "id": "9NRzohLsj0NM",
        "outputId": "26234d1a-7395-4927-f709-5ee358f9778f"
      },
      "execution_count": 23,
      "outputs": [
        {
          "output_type": "display_data",
          "data": {
            "text/plain": [
              "<Figure size 640x480 with 1 Axes>"
            ],
            "image/png": "[encoded data removed]"
          },
          "metadata": {}
        }
      ]
    },
    {
      "cell_type": "markdown",
      "source": [
        "###Spline interpolation"
      ],
      "metadata": {
        "id": "GgFxQ44Zq_yh"
      }
    },
    {
      "cell_type": "code",
      "source": [
        "#This example approximates the sine function with just two points given\n",
        "def f(x):\n",
        "  return np.sin(x)\n",
        "\n",
        "def spline(t):\n",
        "  if 0<=t and t<=np.pi/2:\n",
        "    return hermiteInterpolation(t,[[0,0,1],[np.pi/2,1,0]])\n",
        "  elif t>= np.pi/2:\n",
        "    return hermiteInterpolation(t,[[np.pi/2,1,0],[np.pi,0,-1]])\n",
        "\n",
        "fig, ax = plt.subplots()\n",
        "\n",
        "t = np.linspace(0,np.pi,50)\n",
        "y = f(t)\n",
        "z = [spline(s) for s in t]\n",
        "\n",
        "ax.plot(t,y, label=\"sine\")\n",
        "ax.plot(t,z, label=\"spline\")\n",
        "\n",
        "ax.legend()\n",
        "\n",
        "plt.show()"
      ],
      "metadata": {
        "colab": {
          "base_uri": "https://localhost:8080/",
          "height": 0
        },
        "id": "O7UI0La8sRof",
        "outputId": "ed365b16-56e4-4209-ff85-8dcee7a08b86"
      },
      "execution_count": 24,
      "outputs": [
        {
          "output_type": "display_data",
          "data": {
            "text/plain": [
              "<Figure size 640x480 with 1 Axes>"
            ],
            "image/png": "[encoded data removed]"
          },
          "metadata": {}
        }
      ]
    },
    {
      "cell_type": "markdown",
      "source": [
        "If we want some figure to be drawn easily, we can get some nodes (points) and use Hermite's interpolation to get some degree 3 polynomials that will construct some approximation to the figure with just some of the data.\n",
        "\n"
      ],
      "metadata": {
        "id": "6s2NlSOArJy6"
      }
    },
    {
      "cell_type": "markdown",
      "source": [
        "##Bézier curves (spline interpolation with two variables)"
      ],
      "metadata": {
        "id": "R4QUcyQcu1WI"
      }
    },
    {
      "cell_type": "markdown",
      "source": [
        "We can separate the curves in two functions, one will solve the position of x points and the other the positions of y points:\n",
        "* x(t)\n",
        "* y(t)\n",
        "\n",
        "Both return degree 3 polynomials"
      ],
      "metadata": {
        "id": "RA_zBJIZu6K4"
      }
    },
    {
      "cell_type": "code",
      "source": [
        "def firstCoordinate(t):\n",
        "  return hermiteInterpolation(t,[[0,1,13],[1,4,10]])\n",
        "\n",
        "def secondCoordinate(t):\n",
        "  return hermiteInterpolation(t,[[0,3,-5],[1,4,-3]])\n",
        "\n",
        "fig, ax = plt.subplots()\n",
        "\n",
        "t = np.linspace(0,1,100)\n",
        "x = firstCoordinate(t)\n",
        "y = secondCoordinate(t)\n",
        "\n",
        "ax.plot(x,y)\n",
        "\n",
        "plt.show()"
      ],
      "metadata": {
        "colab": {
          "base_uri": "https://localhost:8080/",
          "height": 0
        },
        "id": "9sgpaI74rrGY",
        "outputId": "ad311503-da23-4a06-bb77-c2b60c9462e5"
      },
      "execution_count": 25,
      "outputs": [
        {
          "output_type": "display_data",
          "data": {
            "text/plain": [
              "<Figure size 640x480 with 1 Axes>"
            ],
            "image/png": "[encoded data removed]"
          },
          "metadata": {}
        }
      ]
    },
    {
      "cell_type": "markdown",
      "source": [
        "##Approximation problems (least-squares)"
      ],
      "metadata": {
        "id": "1EIZBRIlJVbr"
      }
    },
    {
      "cell_type": "markdown",
      "source": [
        "The point of leas-square approximation is to reduce the degree of the polynomial in order to create an approximate curve that describes, mostly, the shape that forms the point mesh. The main difference it has with interpolation is that it doesn't need to be exact, as it doesn't need to pass through the points.\n",
        "\n",
        "To use least-squares, we need to define the inner product for functions, which can be approached form two ways:<br>\n",
        ">a)Discrete case: <br>\n",
        "  f*g = (for i in range 0 to n)Σf(xi)*g(xi) => <br>\n",
        "  ||f||= √((for i in range 0 to n)Σf(xi)^2) => <br>\n",
        "  d(f,g) = √((for i in range 0 to n)Σ(f(xi)-g(xi)^2)\n",
        "\n",
        ">b)Continuous case:<br>\n",
        "  f*g = (a to b)∫(f(x)*f(x))dx\n"
      ],
      "metadata": {
        "id": "KXYr2d8hJjBz"
      }
    },
    {
      "cell_type": "markdown",
      "source": [
        "###Discrete version"
      ],
      "metadata": {
        "id": "HiacxMFGmL_L"
      }
    },
    {
      "cell_type": "code",
      "source": [
        "def innerProduct(f,g,x):\n",
        "  '''\n",
        "  Parameters\n",
        "  ----------\n",
        "    f : function\n",
        "    g : function\n",
        "    x:array\n",
        "        data of the point mesh\n",
        "  Returns\n",
        "  -------\n",
        "    sum: float\n",
        "        inner product of the two functions\n",
        "  '''\n",
        "  sum = 0\n",
        "  for i in range(len(x)):\n",
        "    sum += f(x[i])*g(x[i])\n",
        "  return sum\n",
        "\n",
        "def distance(f,g,x):\n",
        "  '''\n",
        "  Parameters\n",
        "  ----------\n",
        "    f : function\n",
        "    g : function\n",
        "    x:array\n",
        "        data of the point mesh\n",
        "  Returns\n",
        "  -------\n",
        "    distance: float\n",
        "        distance between the two functions\n",
        "  '''\n",
        "  sum = 0\n",
        "  for i in range(len(x)):\n",
        "    sum = sum + (f(x[i])-g(x[i]))**2\n",
        "  return np.sqrt(sum)"
      ],
      "metadata": {
        "id": "jDjT7ATKOZGt"
      },
      "execution_count": 26,
      "outputs": []
    },
    {
      "cell_type": "code",
      "source": [
        "def generatorMatrices(degree,data,f):\n",
        "  '''\n",
        "  Parameters\n",
        "  ----------\n",
        "    degree : integer\n",
        "        degree of the polynomial we are trying to calculate\n",
        "    data:array\n",
        "        data of the point mesh\n",
        "    f: function\n",
        "\n",
        "  Returns\n",
        "  -------\n",
        "    a,b: arrays\n",
        "        a and b matrices of generators and solutions\n",
        "  '''\n",
        "\n",
        "  a = [[innerProduct(lambda x: x**i,lambda x: x**j,data) for j in range(degree+1)] for i in range(degree+1)]\n",
        "  b = [innerProduct(lambda x: x**i,f,data) for i in range(degree+1)]\n",
        "  return a,b\n",
        "\n",
        "def leastSquareApproximation(a,b,f,x):\n",
        "  '''\n",
        "  Parameters\n",
        "  ----------\n",
        "    a : array\n",
        "    b : array\n",
        "        both a and b are the generator matrices\n",
        "    f: function\n",
        "    x: float\n",
        "        point of evaluation of the approximation\n",
        "\n",
        "  Returns\n",
        "  -------\n",
        "    approximation: float\n",
        "        approximation to the function by the least-square method\n",
        "  '''\n",
        "  sol = np.linalg.solve(a,b)\n",
        "  return sum([sol[i]*(lambda x: x**i)(x) for i in range(0,len(sol))])\n"
      ],
      "metadata": {
        "id": "EzYXAf2AydES"
      },
      "execution_count": 27,
      "outputs": []
    },
    {
      "cell_type": "code",
      "source": [
        "def f(x): #define some function, e.g. f(x)=log(x)\n",
        "  return np.log(x)\n",
        "\n",
        "\n",
        "#We want to approximate this mesh of points with a straigth line\n",
        "x = np.linspace(0.5,1.5,6)\n",
        "fig, ax = plt.subplots()\n",
        "ax.scatter(x,f(x))\n",
        "#***************************************************************\n",
        "\n",
        "#***************************************************************\n",
        "\n",
        "#***u1 and u2 will be my generators***\n",
        "def u1(x):\n",
        "  return 1\n",
        "\n",
        "def u2(x):\n",
        "  return x\n",
        "#*************************************\n",
        "\n",
        "data = [0.5,0.7,0.9,1.1,1.3,1.5]\n",
        "\n",
        "#This means aλ = b\n",
        "#a = np.array([[innerProduct(u1,u1,data),innerProduct(u1,u2,data)],\n",
        "# [innerProduct(u2,u1,data),innerProduct(u2,u2,data)]])\n",
        "#b = np.array([innerProduct(u1,f,data),innerProduct(u2,f,data)])\n",
        "#print(a,b)\n",
        "a,b = generatorMatrices(1,data,f)\n",
        "\n",
        "sol = np.linalg.solve(a,b)\n",
        "\n",
        "def approx(x):\n",
        "  return sol[0]*u1(x)+sol[1]*u2(x)\n",
        "\n",
        "#y = approx(x)\n",
        "#ax.plot(data,y)\n",
        "#***************************************************************\n",
        "\n",
        "x = np.linspace(0.5,1.5,6)\n",
        "ax.plot(x,leastSquareApproximation(a,b,f,x))\n",
        "\n",
        "plt.show()\n",
        "\n",
        "print(\"the distance in this approximation is: \"+ str(distance(f,approx,data)))"
      ],
      "metadata": {
        "id": "yao6pBzWwvrB",
        "colab": {
          "base_uri": "https://localhost:8080/",
          "height": 447
        },
        "outputId": "86e4d892-20d2-47f0-ebf9-6560f1f6e43e"
      },
      "execution_count": 28,
      "outputs": [
        {
          "output_type": "display_data",
          "data": {
            "text/plain": [
              "<Figure size 640x480 with 1 Axes>"
            ],
            "image/png": "[encoded data removed]"
          },
          "metadata": {}
        },
        {
          "output_type": "stream",
          "name": "stdout",
          "text": [
            "the distance in this approximation is: 0.14481304192095543\n"
          ]
        }
      ]
    },
    {
      "cell_type": "code",
      "source": [
        "#Now we want to approximate the graph with a second degree curve:\n",
        "x = np.linspace(0.5,1.5,6)\n",
        "fig, ax = plt.subplots()\n",
        "ax.scatter(x,f(x))\n",
        "#***************************************************************\n",
        "\n",
        "#***************************************************************\n",
        "\n",
        "#***u1, u2 and u3 will be my generators***\n",
        "def u1(x):\n",
        "  return 1\n",
        "\n",
        "def u2(x):\n",
        "  return x\n",
        "\n",
        "def u3(x):\n",
        "  return x**2\n",
        "#*************************************\n",
        "\n",
        "data = [0.5,0.7,0.9,1.1,1.3,1.5]\n",
        "\n",
        "#This means aλ = b, λ being a parameter\n",
        "a = np.array([[innerProduct(u1,u1,data),\n",
        "               innerProduct(u1,u2,data),\n",
        "               innerProduct(u1,u3,data)],\n",
        " [innerProduct(u2,u1,data),\n",
        "  innerProduct(u2,u2,data),\n",
        "  innerProduct(u2,u3,data)],\n",
        " [innerProduct(u3,u1,data),\n",
        "  innerProduct(u3,u2,data),\n",
        "  innerProduct(u3,u3,data)]])\n",
        "b = np.array([innerProduct(u1,f,data),innerProduct(u2,f,data),innerProduct(u3,f,data)])\n",
        "\n",
        "sol = np.linalg.solve(a,b)\n",
        "\n",
        "def approx(x):\n",
        "  return sol[0]*u1(x)+sol[1]*u2(x)+sol[2]*u3(x)\n",
        "\n",
        "y = approx(x)\n",
        "ax.plot(data,y)\n",
        "#***************************************************************\n",
        "\n",
        "plt.show()\n",
        "\n",
        "print(\"the distance in this approximation is: \"+ str(distance(f,approx,data)))"
      ],
      "metadata": {
        "colab": {
          "base_uri": "https://localhost:8080/",
          "height": 447
        },
        "id": "YVbEU-y5SFiU",
        "outputId": "a3f44d4c-f88e-4669-b718-b9c0e65b0fbf"
      },
      "execution_count": 29,
      "outputs": [
        {
          "output_type": "display_data",
          "data": {
            "text/plain": [
              "<Figure size 640x480 with 1 Axes>"
            ],
            "image/png": "[encoded data removed]"
          },
          "metadata": {}
        },
        {
          "output_type": "stream",
          "name": "stdout",
          "text": [
            "the distance in this approximation is: 0.02703563738322595\n"
          ]
        }
      ]
    },
    {
      "cell_type": "markdown",
      "source": [
        "###Continuous version"
      ],
      "metadata": {
        "id": "IE2UNb8imQM2"
      }
    },
    {
      "cell_type": "markdown",
      "source": [
        "This time, we have generators still but we change how we approximate the inner product."
      ],
      "metadata": {
        "id": "nR0zHhssmW7q"
      }
    },
    {
      "cell_type": "code",
      "source": [
        "def trapezoidIntegration(f,a,b,n):\n",
        "  '''\n",
        "  Parameters\n",
        "  ----------\n",
        "    f : function\n",
        "    a : float\n",
        "        left-most extreme\n",
        "    b : float\n",
        "        right-most extreme\n",
        "    n : float\n",
        "        number of subintervals\n",
        "\n",
        "  Returns\n",
        "  -------\n",
        "    sum: float\n",
        "        trapezoidal integration approximation\n",
        "  '''\n",
        "  sum = 0\n",
        "  h=(b-a)/n\n",
        "  x = a\n",
        "  for i in range(n):\n",
        "    sum += h*(f(x+h)+f(x))/2\n",
        "    x += h\n",
        "  return sum\n",
        "\n",
        "def innerProductForContinious(f,g,a,b):\n",
        "  '''\n",
        "  Parameters\n",
        "  ----------\n",
        "    f : function\n",
        "    g : function\n",
        "    a : float\n",
        "    b : float\n",
        "\n",
        "  Returns\n",
        "  -------\n",
        "    result: float\n",
        "        inner product of the two functions\n",
        "  '''\n",
        "#  def product(x):\n",
        "#    return f(x)*g(x)\n",
        "#  return trapezoidIntegration(product,a,b,10) |||| all of this can be done better:\n",
        "  return trapezoidIntegration(lambda t: f(t)*g(t),a,b,10)"
      ],
      "metadata": {
        "id": "jfl3M696nGMC"
      },
      "execution_count": 41,
      "outputs": []
    },
    {
      "cell_type": "code",
      "source": [
        "def f(x): #define some function, e.g. f(x)=log(x)\n",
        "  return np.cos(x)\n",
        "\n",
        "\n",
        "#We want to approximate this mesh of points with a straigth line\n",
        "x = np.linspace(-1,1,6)\n",
        "fig, ax = plt.subplots()\n",
        "ax.scatter(x,f(x))\n",
        "#***************************************************************\n",
        "\n",
        "#***************************************************************\n",
        "\n",
        "#***u1 and u2 will be my generators***\n",
        "def u1(x):\n",
        "  return 1\n",
        "\n",
        "def u2(x):\n",
        "  return x\n",
        "\n",
        "def u3(x):\n",
        "  return x**2\n",
        "#*************************************\n",
        "\n",
        "a = -1\n",
        "b = 1\n",
        "\n",
        "#This means aλ = b\n",
        "A = np.array([\n",
        "    [innerProductForContinious(u1,u1,a,b),innerProductForContinious(u1,u2,a,b),innerProductForContinious(u1,u3,a,b)],\n",
        "    [innerProductForContinious(u2,u1,a,b),innerProductForContinious(u2,u2,a,b),innerProductForContinious(u2,u3,a,b)],\n",
        "    [innerProductForContinious(u3,u1,a,b),innerProductForContinious(u3,u2,a,b),innerProductForContinious(u3,u3,a,b)]])\n",
        "B = np.array([innerProductForContinious(u1,f,a,b),innerProductForContinious(u2,f,a,b),innerProductForContinious(u3,f,a,b)])\n",
        "\n",
        "sol = np.linalg.solve(A,B)\n",
        "\n",
        "def approx(x):\n",
        "  return sol[0]*u1(x)+sol[1]*u2(x)+sol[2]*u3(x)\n",
        "\n",
        "y = approx(x)\n",
        "ax.plot(x,y)\n",
        "#***************************************************************\n"
      ],
      "metadata": {
        "colab": {
          "base_uri": "https://localhost:8080/",
          "height": 451
        },
        "id": "Z2nPHel1nTSy",
        "outputId": "214dc97d-a31f-40f7-8e76-5f8c47136728"
      },
      "execution_count": 40,
      "outputs": [
        {
          "output_type": "execute_result",
          "data": {
            "text/plain": [
              "[<matplotlib.lines.Line2D at 0x7e5ff6fce320>]"
            ]
          },
          "metadata": {},
          "execution_count": 40
        },
        {
          "output_type": "display_data",
          "data": {
            "text/plain": [
              "<Figure size 640x480 with 1 Axes>"
            ],
            "image/png": "[encoded data removed]"
          },
          "metadata": {}
        }
      ]
    },
    {
      "cell_type": "markdown",
      "source": [
        "#Unit 11: Numerical differentiation and integration"
      ],
      "metadata": {
        "id": "4bWLgLMGdOEA"
      }
    },
    {
      "cell_type": "markdown",
      "source": [
        "##Numerical differentiation"
      ],
      "metadata": {
        "id": "_DW8WnIkdZEh"
      }
    },
    {
      "cell_type": "markdown",
      "source": [
        "##Numerical integrals"
      ],
      "metadata": {
        "id": "6yOUpXmZdbjR"
      }
    },
    {
      "cell_type": "markdown",
      "source": [
        "We have a function f(x) continuous in a,b ∈ R and we want to integrate in [a,b].\n",
        ">One naïve approach would be using the lower and upper endpoint sums: <br>\n",
        "∫f <= ∑f <= f(n0) ∫f  <br>\n",
        "(**if the function is increasing, otherwise it's the other way around**). This way, the complexity in space is constant, it always uses the same memory.\n",
        "\n",
        ">A better way is to subdivide the integral using trapezoids. The area of a trapezoid would be:<br>\n",
        "heigth*((base1+base2)/2)<br>\n",
        "In an integral base1 would be f(xi) and base2 would be f(xi+1), being the height (xi+1) -(xi) (<strong>The trapezoid is rotated 90 degrees</strong>).\n",
        "\n",
        ">An even better approximation would be using interpolation. We can approach our function with an interpolated polynomial. This means that in a subinterval of the domain, we can approximate the function by using (n+1) nodes, n being the degree of the polynomial.<br>\n",
        "Now that we have a polynomial, we can say that p(xi)=f(x), which leads to the **Simpson's formula**:<br>\n",
        "∫f ≈ ∑((xi+1-xi)/6)*(f(x1)+4(f(xi+h/2))+f(xi+1)) ≈ ∑((xi+1-xi)/2)*(f(x1+1)+f(xi))\n"
      ],
      "metadata": {
        "id": "wr7fffUYdkI3"
      }
    },
    {
      "cell_type": "code",
      "source": [
        "def f(x):\n",
        "  return x**2\n",
        "\n",
        "fig,ax = plt.subplots()\n",
        "t = np.linspace(0,2,50)\n",
        "y = f(t)\n",
        "ax.plot(t,y)\n",
        "\n",
        "plt.show()"
      ],
      "metadata": {
        "id": "Ozr3nmTLewoX",
        "colab": {
          "base_uri": "https://localhost:8080/",
          "height": 430
        },
        "outputId": "801dd85d-2b07-4113-e46b-7bf888fe4c6f"
      },
      "execution_count": 39,
      "outputs": [
        {
          "output_type": "display_data",
          "data": {
            "text/plain": [
              "<Figure size 640x480 with 1 Axes>"
            ],
            "image/png": "[encoded data removed]"
          },
          "metadata": {}
        }
      ]
    },
    {
      "cell_type": "markdown",
      "source": [
        "###Lower-endpoint and upper-endpoint sums (naïve way):"
      ],
      "metadata": {
        "id": "TKJfnj--fNIQ"
      }
    },
    {
      "cell_type": "code",
      "source": [
        "#Naïve way: it's inneficcient because of the iterative factor, but there's a\n",
        "#better algorithm\n",
        "\n",
        "def lowerIntegration(f,a,b,n):\n",
        "  '''\n",
        "  Parameters\n",
        "  ----------\n",
        "    f : function\n",
        "    a : float\n",
        "        left-most extreme\n",
        "    b : float\n",
        "        right-most extreme\n",
        "    n : float\n",
        "        number of subintervals\n",
        "\n",
        "  Returns\n",
        "  -------\n",
        "    sum: float\n",
        "        lower-endpoint sum\n",
        "  '''\n",
        "  sum = 0\n",
        "  h=(b-a)/n\n",
        "  x = a\n",
        "  for i in range(n):\n",
        "    sum += h*f(x)\n",
        "    x += h\n",
        "  return sum\n",
        "\n",
        "\n",
        "def upperIntegration(f,a,b,n):\n",
        "  '''\n",
        "  Parameters\n",
        "  ----------\n",
        "    f : function\n",
        "    a : float\n",
        "        left-most extreme\n",
        "    b : float\n",
        "        right-most extreme\n",
        "    n : float\n",
        "        number of subintervals\n",
        "\n",
        "  Returns\n",
        "  -------\n",
        "    sum: float\n",
        "        upper-endpoint sum\n",
        "  '''\n",
        "  sum = 0\n",
        "  h=(b-a)/n\n",
        "  x = a\n",
        "  for i in range(n):\n",
        "    sum += h*f(x+h)\n",
        "    x += h\n",
        "  return sum"
      ],
      "metadata": {
        "id": "VV09v5JhdjGP"
      },
      "execution_count": null,
      "outputs": []
    },
    {
      "cell_type": "code",
      "source": [
        "print(lowerIntegration(f,0,1,1000))\n",
        "print(upperIntegration(f,0,1,1000))"
      ],
      "metadata": {
        "id": "fphfFY5zfzzY"
      },
      "execution_count": null,
      "outputs": []
    },
    {
      "cell_type": "code",
      "source": [
        "#This one is a bit better\n",
        "def midpointIntegration(f,a,b,n):\n",
        "  '''\n",
        "  Parameters\n",
        "  ----------\n",
        "    f : function\n",
        "    a : float\n",
        "        left-most extreme\n",
        "    b : float\n",
        "        right-most extreme\n",
        "    n : float\n",
        "        number of subintervals\n",
        "\n",
        "  Returns\n",
        "  -------\n",
        "    sum: float\n",
        "        midpoint sum\n",
        "  '''\n",
        "  sum = 0\n",
        "  h=(b-a)/n\n",
        "  x = a\n",
        "  for i in range(n):\n",
        "    sum += h*f(x+h/2)\n",
        "    x += h\n",
        "  return sum"
      ],
      "metadata": {
        "id": "EawD-aeyga0V"
      },
      "execution_count": null,
      "outputs": []
    },
    {
      "cell_type": "code",
      "source": [
        "print(midpointIntegration(f,0,1,1000))"
      ],
      "metadata": {
        "id": "Iq0pLrsthDL2"
      },
      "execution_count": null,
      "outputs": []
    },
    {
      "cell_type": "markdown",
      "source": [
        "###Trapezoidal integration"
      ],
      "metadata": {
        "id": "ADLhIBmgiDff"
      }
    },
    {
      "cell_type": "code",
      "source": [
        "#This one is a better approximation, but it might not be worth it as it requires\n",
        "#more computations. It will be useful when using more complex functions than x^2\n",
        "def trapezoidIntegration(f,a,b,n):\n",
        "  '''\n",
        "  Parameters\n",
        "  ----------\n",
        "    f : function\n",
        "    a : float\n",
        "        left-most extreme\n",
        "    b : float\n",
        "        right-most extreme\n",
        "    n : float\n",
        "        number of subintervals\n",
        "\n",
        "  Returns\n",
        "  -------\n",
        "    sum: float\n",
        "        trapezoidal integration approximation\n",
        "  '''\n",
        "  sum = 0\n",
        "  h=(b-a)/n\n",
        "  x = a\n",
        "  for i in range(n):\n",
        "    sum += h*(f(x+h)+f(x))/2\n",
        "    x += h\n",
        "  return sum"
      ],
      "metadata": {
        "id": "iqrfhcXMhIQ9"
      },
      "execution_count": 38,
      "outputs": []
    },
    {
      "cell_type": "code",
      "source": [
        "print(trapezoidIntegration(f,0,1,1000))"
      ],
      "metadata": {
        "id": "EG8_8v5XiRsf"
      },
      "execution_count": null,
      "outputs": []
    },
    {
      "cell_type": "markdown",
      "source": [
        "###Simpson's integration"
      ],
      "metadata": {
        "id": "gsy8Ih7CjD8-"
      }
    },
    {
      "cell_type": "code",
      "source": [
        "#This ones gives a veeery precise approximation to the integral\n",
        "def simpsonIntegration(f,a,b,n):\n",
        "  '''\n",
        "  Important! Less intervals are required than other methods as this gives a\n",
        "  very very precise approximation to the integral\n",
        "\n",
        "  Parameters\n",
        "  ----------\n",
        "    f : function\n",
        "    a : float\n",
        "        left-most extreme\n",
        "    b : float\n",
        "        right-most extreme\n",
        "    n : float\n",
        "        number of subintervals\n",
        "\n",
        "  Returns\n",
        "  -------\n",
        "    sum: float\n",
        "        approximation by the Simpon's formula of integration\n",
        "  '''\n",
        "  sum = 0\n",
        "  h=(b-a)/n\n",
        "  x = a\n",
        "  for i in range(n):\n",
        "    sum += h*(f(x+h)+4*f(x+h/2)+f(x))/6\n",
        "    x += h\n",
        "  return sum"
      ],
      "metadata": {
        "id": "6rtmXWzGjDZf"
      },
      "execution_count": 35,
      "outputs": []
    },
    {
      "cell_type": "code",
      "source": [
        "print(simpsonIntegration(f,0,1,1000))\n",
        "print(simpsonIntegration(f,0,1,10)) #Less subintervals gives better results"
      ],
      "metadata": {
        "id": "jzSuLQtGlM2L",
        "colab": {
          "base_uri": "https://localhost:8080/"
        },
        "outputId": "55fe2f2b-a873-4ec1-bcf0-812b3c611b26"
      },
      "execution_count": 37,
      "outputs": [
        {
          "output_type": "stream",
          "name": "stdout",
          "text": [
            "0.4596976941318607\n",
            "0.45969771009833754\n"
          ]
        }
      ]
    },
    {
      "cell_type": "markdown",
      "source": [
        "###Romber integration:\n",
        "\n",
        "The Romber's method is different to the other methods. It still **approximates** an integral. The formula goes like so: ⬇"
      ],
      "metadata": {
        "id": "uMjueyA0q9YY"
      }
    },
    {
      "cell_type": "markdown",
      "source": [
        "![imagen.png](data:image/png;base64,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)"
      ],
      "metadata": {
        "id": "SMr_l1VVrUbK"
      }
    },
    {
      "cell_type": "markdown",
      "source": [
        "This way we can create a cascading table:<br>\n",
        "R(0,0) <br> R(1,0) R(1,1) <br> R(2,0) R(2,1) R(2,2) <br>\n",
        "\n",
        "The best approximation will be given by the last item in the last row\n",
        "\n"
      ],
      "metadata": {
        "id": "oiV9D2_lr-nS"
      }
    },
    {
      "cell_type": "markdown",
      "source": [
        "![imagen.png](data:image/png;base64,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)"
      ],
      "metadata": {
        "id": "UvPXFUCUsBzf"
      }
    },
    {
      "cell_type": "code",
      "source": [
        "def  rombergIntegration(f,a,b,k):\n",
        "  '''\n",
        "  Parameters\n",
        "  ----------\n",
        "    f : function\n",
        "    a : float\n",
        "    b : float\n",
        "    k : int\n",
        "        number of iterations we want\n",
        "\n",
        "  Returns\n",
        "  -------\n",
        "    approximation: float\n",
        "        approximation of the integral by the Romberg's method\n",
        "  '''\n",
        "  R = []\n",
        "  h = b - a\n",
        "  R.append([h*(f(a)+f(b))/2])\n",
        "  n = 1\n",
        "  while True:\n",
        "    row = []\n",
        "    sum = 0\n",
        "    h = h/2\n",
        "    for k in range(1,2**(n-1)+1):\n",
        "      sum = sum + f(a+(2*k-1)*h)\n",
        "    row.append(R[n-1][0]/2+h*sum)\n",
        "    for m in range(1,n+1):\n",
        "      row.append((4**m*row[m-1]-R[n-1][m-1])/(4**m-1))\n",
        "    R.append(row)\n",
        "    if np.abs(row[n] - row [n-1]) < tolerance:\n",
        "      print(R)\n",
        "      return row[n]\n",
        "    n = n + 1"
      ],
      "metadata": {
        "id": "GsXn60glsTBH"
      },
      "execution_count": 32,
      "outputs": []
    },
    {
      "cell_type": "markdown",
      "source": [
        "In this second version, we prescribe the number of subintervals $n=2^k$."
      ],
      "metadata": {
        "id": "0ZhFVxQkOK5A"
      }
    },
    {
      "cell_type": "code",
      "source": [
        "def rombergIntegration2(f, a, b, k):\n",
        "  R = []\n",
        "  h = b - a\n",
        "  R.append([h*(f(a)+f(b))/2])\n",
        "  for n in range(1,k):\n",
        "    row = []\n",
        "    sum = 0\n",
        "    h = h/2\n",
        "    for k in range(1,2**(n-1)+1):\n",
        "      sum = sum + f(a+(2*k-1)*h)\n",
        "    row.append(R[n-1][0]/2+h*sum)\n",
        "    for m in range(1,n+1):\n",
        "      row.append((4**m*row[m-1]-R[n-1][m-1])/(4**m-1))\n",
        "    R.append(row)\n",
        "  print(R)\n",
        "  return row[n]\n",
        "\n",
        "def f(x):\n",
        "  return np.sin(x)\n",
        "\n",
        "print(rombergIntegration2(f,0,1,2))"
      ],
      "metadata": {
        "id": "3KdRocJo1_8_",
        "colab": {
          "base_uri": "https://localhost:8080/"
        },
        "outputId": "3b51915f-9ff3-4e18-d07a-ab377cf9ac1c"
      },
      "execution_count": 36,
      "outputs": [
        {
          "output_type": "stream",
          "name": "stdout",
          "text": [
            "[[0.42073549240394825], [0.45008051550407563, 0.4598621898707848]]\n",
            "0.4598621898707848\n",
            "0.45969831879846146\n"
          ]
        }
      ]
    },
    {
      "cell_type": "markdown",
      "source": [
        "#Unit 12: Numerical resolution of ODEs"
      ],
      "metadata": {
        "id": "_nH1mTZwyI_M"
      }
    },
    {
      "cell_type": "markdown",
      "source": [
        "Ordinary Differential Equations (ODEs) can be describe as functions of the form:<br>\n",
        "* y=f(x)\n",
        "* y'=F(x,y)\n",
        "\n",
        ">For example:<br>\n",
        "y' = x -> y(x) = (x^2)/2 + C\n",
        "<br><br>\n",
        "y' = y -> (y'/y) = 1 -> log(y) = x + c -> y = a * e^x"
      ],
      "metadata": {
        "id": "6xE2XJPyyOJF"
      }
    },
    {
      "cell_type": "markdown",
      "source": [
        "In order to solve these equations, there's some different ways:\n",
        "* If given the derivative as y' = F(x,y) and a point of y(x0):\n",
        "  1. I know the derivative, so I know the tangent line. And have two points: x0 and x0+h = x1\n",
        "  2. y = y0+y'(x0)(x-x0) -> y1 = y0+F(x0,y0)*h -> y2 = y1+F(x1,y1)*h\n",
        "  3. We can approximate the original function y with the Euler's method."
      ],
      "metadata": {
        "id": "EQ9fQlhMzKMz"
      }
    },
    {
      "cell_type": "markdown",
      "source": [
        "Solving ODEs can be practical for, for example, programming physics."
      ],
      "metadata": {
        "id": "_XQ-bjeQTIOL"
      }
    },
    {
      "cell_type": "markdown",
      "source": [
        "##Euler's method:"
      ],
      "metadata": {
        "id": "xS631eZtPEKI"
      }
    },
    {
      "cell_type": "code",
      "source": [
        "def F(x,y):\n",
        "  return y\n",
        "\n",
        "def eulerODE(F,x0,y0,h,n): #n being the number of iterations\n",
        "\n",
        "  #This list at the first stage only contain the first point\n",
        "  xcoordinates = [x0]\n",
        "  ycoordinates = [y0]\n",
        "  x=x0\n",
        "  y = y0\n",
        "\n",
        "  for i in range(n):\n",
        "    y+=h*F(x,y)\n",
        "    x+=h\n",
        "    ycoordinates.append(y)\n",
        "    xcoordinates.append(x)\n",
        "\n",
        "  return [xcoordinates,ycoordinates]\n",
        "\n",
        "sol=eulerODE(F,0,1,0.01,100)\n",
        "\n",
        "fig,ax = plt.subplots()\n",
        "\n",
        "ax.plot(sol[0],sol[1])\n",
        "\n",
        "x = np.linspace(0,1,10)\n",
        "y = np.e**x\n",
        "\n",
        "ax.plot(x,y)\n",
        "\n",
        "plt.show()"
      ],
      "metadata": {
        "id": "Vwzl8oYdyIvV"
      },
      "execution_count": null,
      "outputs": []
    },
    {
      "cell_type": "markdown",
      "source": [
        "##Midpoint formula (rectangular integration)\n",
        "$y$"
      ],
      "metadata": {
        "id": "UsiBTu7xO7ew"
      }
    },
    {
      "cell_type": "code",
      "source": [
        "def rectangularODE(f,a,b,y0,n):\n",
        "  '''\n",
        "  Parameters\n",
        "  ----------\n",
        "    f: function\n",
        "    a: float\n",
        "        lower extreme\n",
        "    b: float\n",
        "        upper extreme\n",
        "    y0: float\n",
        "        initial image\n",
        "    n: integer\n",
        "        number of iterations\n",
        "\n",
        "  Returns\n",
        "  -------\n",
        "    [x,y]: array\n",
        "      approximate points\n",
        "  '''\n",
        "  h = (b-a)/n\n",
        "  Lx = [a]\n",
        "  Ly = [y0]\n",
        "  x = a\n",
        "  y = y0\n",
        "  for k in range(1,n+1):\n",
        "    y += h*f(x+h/2,y+h*f(x,y)/2)\n",
        "    x +=h\n",
        "\n",
        "    Lx.append(x)\n",
        "    Ly.append(y)\n",
        "  return [Lx,Ly]"
      ],
      "metadata": {
        "id": "icRz7P2xPJX4"
      },
      "execution_count": null,
      "outputs": []
    },
    {
      "cell_type": "markdown",
      "source": [
        "##Trapezoidal integration of ODEs\n",
        "\n",
        "$y(i+1) ≈ yi + h(f(xi,yi)+f(x(i+1),y(i+1))/(2) ≈ y_i + h/2 (f(x_i,y_i)+f(x(i+1),y_i+(h*f(x_i,y_i)))$"
      ],
      "metadata": {
        "id": "3EL55j_ZQmk4"
      }
    },
    {
      "cell_type": "code",
      "source": [
        "def trapezoidODE(f,a,b,y0,n):\n",
        "  '''\n",
        "  Parameters\n",
        "  ----------\n",
        "    f: function\n",
        "    a: float\n",
        "        lower extreme\n",
        "    b: float\n",
        "        upper extreme\n",
        "    y0: float\n",
        "        initial image\n",
        "    n: integer\n",
        "        number of iterations\n",
        "\n",
        "  Returns\n",
        "  -------\n",
        "    [x,y]: array\n",
        "      approximate points\n",
        "  '''\n",
        "  h = (b-a)/n\n",
        "  Lx = [a]\n",
        "  Ly = [y0]\n",
        "  x = a\n",
        "  y = y0\n",
        "  for k in range(1,n+1):\n",
        "    y += h*f(x+h/2,y+h*f(x,y)/2)\n",
        "    x +=h\n",
        "\n",
        "    Lx.append(x)\n",
        "    Ly.append(y)\n",
        "  return [Lx,Ly]"
      ],
      "metadata": {
        "id": "XiWVhHEhRm-i"
      },
      "execution_count": null,
      "outputs": []
    },
    {
      "cell_type": "markdown",
      "source": [
        "##Simpson's integration of ODEs\n",
        "\n"
      ],
      "metadata": {
        "id": "Zelg0i-3Sktt"
      }
    },
    {
      "cell_type": "code",
      "source": [
        "def simpsonOD(f,a,b,y0,n):\n",
        "  '''\n",
        "  Parameters\n",
        "  ----------\n",
        "    f: function\n",
        "    a: float\n",
        "        lower extreme\n",
        "    b: float\n",
        "        upper extreme\n",
        "    y0: float\n",
        "        initial image\n",
        "    n: integer\n",
        "        number of iterations\n",
        "\n",
        "  Returns\n",
        "  -------\n",
        "    [x,y]: array\n",
        "      approximate points\n",
        "  '''\n",
        "  h = (b-a)/n\n",
        "  Lx = [a]\n",
        "  Ly = [y0]\n",
        "  x = a\n",
        "  y = y0\n",
        "  for k in range(1,n+1):\n",
        "    y += h/6*(f(x,y))\n",
        "    x +=h\n",
        "\n",
        "    Lx.append(x)\n",
        "    Ly.append(y)\n",
        "  return [Lx,Ly]"
      ],
      "metadata": {
        "id": "kTm61DMbSqCc"
      },
      "execution_count": null,
      "outputs": []
    }
  ]
}